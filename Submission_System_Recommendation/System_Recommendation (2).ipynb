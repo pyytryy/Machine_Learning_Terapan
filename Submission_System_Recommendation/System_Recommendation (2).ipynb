{
  "nbformat": 4,
  "nbformat_minor": 0,
  "metadata": {
    "colab": {
      "provenance": [],
      "toc_visible": true
    },
    "kernelspec": {
      "name": "python3",
      "display_name": "Python 3"
    },
    "language_info": {
      "name": "python"
    }
  },
  "cells": [
    {
      "cell_type": "markdown",
      "source": [
        "# **Proyek Machine Learning & Deep Learning - Music Recomendation**"
      ],
      "metadata": {
        "id": "xhUZBYBGUvqO"
      }
    },
    {
      "cell_type": "markdown",
      "source": [
        "# Data Understanding"
      ],
      "metadata": {
        "id": "flFsEN_k_ySK"
      }
    },
    {
      "cell_type": "code",
      "execution_count": 1,
      "metadata": {
        "id": "1Mr2iNm4_P0Q"
      },
      "outputs": [],
      "source": [
        "import numpy as np\n",
        "import pandas as pd\n",
        "import matplotlib.pyplot as plt\n",
        "import seaborn as sns\n",
        "from sklearn.preprocessing import StandardScaler, MinMaxScaler\n",
        "from sklearn.metrics.pairwise import cosine_similarity\n",
        "from sklearn.feature_extraction.text import TfidfVectorizer\n",
        "from scipy.sparse import hstack\n",
        "from sklearn.metrics import mean_absolute_error"
      ]
    },
    {
      "cell_type": "markdown",
      "source": [
        "## Sumber Dataset\n",
        "\n",
        "Dataset yang digunakan pada proyek ini berasal dari dataset pada Kaggle dengan nama [Spotify Tracks DB](https://www.kaggle.com/datasets/zaheenhamidani/ultimate-spotify-tracks-db) milik Zaheen Hamidani. Dataset ini berisi kumpulan informasi mengenai lagu-lagu populer yang dapat digunakan untuk membangun sistem rekomendasi musik.\n",
        "Masing-masing entri dalam dataset mewakili satu lagu dengan beberapa fitur numerik dan kategorikal yang mendeskripsikan karakteristik lagu tersebut."
      ],
      "metadata": {
        "id": "H7TrE38ON_zt"
      }
    },
    {
      "cell_type": "code",
      "source": [
        "file_id = \"17Ooxn7vKOLIeITQQIK7cx0O_cBNLpoaG\"\n",
        "url = f\"https://drive.google.com/uc?id={file_id}\"\n",
        "\n",
        "df = pd.read_csv(url)\n",
        "df.head()"
      ],
      "metadata": {
        "colab": {
          "base_uri": "https://localhost:8080/",
          "height": 417
        },
        "id": "gvHbUydN_2x1",
        "outputId": "25018fc5-2e18-4afa-8973-0367dafdab05"
      },
      "execution_count": 2,
      "outputs": [
        {
          "output_type": "execute_result",
          "data": {
            "text/plain": [
              "   genre        artist_name                        track_name  \\\n",
              "0  Movie     Henri Salvador       C'est beau de faire un Show   \n",
              "1  Movie  Martin & les fées  Perdu d'avance (par Gad Elmaleh)   \n",
              "2  Movie    Joseph Williams    Don't Let Me Be Lonely Tonight   \n",
              "3  Movie     Henri Salvador    Dis-moi Monsieur Gordon Cooper   \n",
              "4  Movie       Fabien Nataf                         Ouverture   \n",
              "\n",
              "                 track_id  popularity  acousticness  danceability  \\\n",
              "0  0BRjO6ga9RKCKjfDqeFgWV           0         0.611         0.389   \n",
              "1  0BjC1NfoEOOusryehmNudP           1         0.246         0.590   \n",
              "2  0CoSDzoNIKCRs124s9uTVy           3         0.952         0.663   \n",
              "3  0Gc6TVm52BwZD07Ki6tIvf           0         0.703         0.240   \n",
              "4  0IuslXpMROHdEPvSl1fTQK           4         0.950         0.331   \n",
              "\n",
              "   duration_ms  energy  instrumentalness key  liveness  loudness   mode  \\\n",
              "0        99373   0.910             0.000  C#    0.3460    -1.828  Major   \n",
              "1       137373   0.737             0.000  F#    0.1510    -5.559  Minor   \n",
              "2       170267   0.131             0.000   C    0.1030   -13.879  Minor   \n",
              "3       152427   0.326             0.000  C#    0.0985   -12.178  Major   \n",
              "4        82625   0.225             0.123   F    0.2020   -21.150  Major   \n",
              "\n",
              "   speechiness    tempo time_signature  valence  \n",
              "0       0.0525  166.969            4/4    0.814  \n",
              "1       0.0868  174.003            4/4    0.816  \n",
              "2       0.0362   99.488            5/4    0.368  \n",
              "3       0.0395  171.758            4/4    0.227  \n",
              "4       0.0456  140.576            4/4    0.390  "
            ],
            "text/html": [
              "\n",
              "  <div id=\"df-177eb1c4-e03b-45e8-b191-5dc6b13778d5\" class=\"colab-df-container\">\n",
              "    <div>\n",
              "<style scoped>\n",
              "    .dataframe tbody tr th:only-of-type {\n",
              "        vertical-align: middle;\n",
              "    }\n",
              "\n",
              "    .dataframe tbody tr th {\n",
              "        vertical-align: top;\n",
              "    }\n",
              "\n",
              "    .dataframe thead th {\n",
              "        text-align: right;\n",
              "    }\n",
              "</style>\n",
              "<table border=\"1\" class=\"dataframe\">\n",
              "  <thead>\n",
              "    <tr style=\"text-align: right;\">\n",
              "      <th></th>\n",
              "      <th>genre</th>\n",
              "      <th>artist_name</th>\n",
              "      <th>track_name</th>\n",
              "      <th>track_id</th>\n",
              "      <th>popularity</th>\n",
              "      <th>acousticness</th>\n",
              "      <th>danceability</th>\n",
              "      <th>duration_ms</th>\n",
              "      <th>energy</th>\n",
              "      <th>instrumentalness</th>\n",
              "      <th>key</th>\n",
              "      <th>liveness</th>\n",
              "      <th>loudness</th>\n",
              "      <th>mode</th>\n",
              "      <th>speechiness</th>\n",
              "      <th>tempo</th>\n",
              "      <th>time_signature</th>\n",
              "      <th>valence</th>\n",
              "    </tr>\n",
              "  </thead>\n",
              "  <tbody>\n",
              "    <tr>\n",
              "      <th>0</th>\n",
              "      <td>Movie</td>\n",
              "      <td>Henri Salvador</td>\n",
              "      <td>C'est beau de faire un Show</td>\n",
              "      <td>0BRjO6ga9RKCKjfDqeFgWV</td>\n",
              "      <td>0</td>\n",
              "      <td>0.611</td>\n",
              "      <td>0.389</td>\n",
              "      <td>99373</td>\n",
              "      <td>0.910</td>\n",
              "      <td>0.000</td>\n",
              "      <td>C#</td>\n",
              "      <td>0.3460</td>\n",
              "      <td>-1.828</td>\n",
              "      <td>Major</td>\n",
              "      <td>0.0525</td>\n",
              "      <td>166.969</td>\n",
              "      <td>4/4</td>\n",
              "      <td>0.814</td>\n",
              "    </tr>\n",
              "    <tr>\n",
              "      <th>1</th>\n",
              "      <td>Movie</td>\n",
              "      <td>Martin &amp; les fées</td>\n",
              "      <td>Perdu d'avance (par Gad Elmaleh)</td>\n",
              "      <td>0BjC1NfoEOOusryehmNudP</td>\n",
              "      <td>1</td>\n",
              "      <td>0.246</td>\n",
              "      <td>0.590</td>\n",
              "      <td>137373</td>\n",
              "      <td>0.737</td>\n",
              "      <td>0.000</td>\n",
              "      <td>F#</td>\n",
              "      <td>0.1510</td>\n",
              "      <td>-5.559</td>\n",
              "      <td>Minor</td>\n",
              "      <td>0.0868</td>\n",
              "      <td>174.003</td>\n",
              "      <td>4/4</td>\n",
              "      <td>0.816</td>\n",
              "    </tr>\n",
              "    <tr>\n",
              "      <th>2</th>\n",
              "      <td>Movie</td>\n",
              "      <td>Joseph Williams</td>\n",
              "      <td>Don't Let Me Be Lonely Tonight</td>\n",
              "      <td>0CoSDzoNIKCRs124s9uTVy</td>\n",
              "      <td>3</td>\n",
              "      <td>0.952</td>\n",
              "      <td>0.663</td>\n",
              "      <td>170267</td>\n",
              "      <td>0.131</td>\n",
              "      <td>0.000</td>\n",
              "      <td>C</td>\n",
              "      <td>0.1030</td>\n",
              "      <td>-13.879</td>\n",
              "      <td>Minor</td>\n",
              "      <td>0.0362</td>\n",
              "      <td>99.488</td>\n",
              "      <td>5/4</td>\n",
              "      <td>0.368</td>\n",
              "    </tr>\n",
              "    <tr>\n",
              "      <th>3</th>\n",
              "      <td>Movie</td>\n",
              "      <td>Henri Salvador</td>\n",
              "      <td>Dis-moi Monsieur Gordon Cooper</td>\n",
              "      <td>0Gc6TVm52BwZD07Ki6tIvf</td>\n",
              "      <td>0</td>\n",
              "      <td>0.703</td>\n",
              "      <td>0.240</td>\n",
              "      <td>152427</td>\n",
              "      <td>0.326</td>\n",
              "      <td>0.000</td>\n",
              "      <td>C#</td>\n",
              "      <td>0.0985</td>\n",
              "      <td>-12.178</td>\n",
              "      <td>Major</td>\n",
              "      <td>0.0395</td>\n",
              "      <td>171.758</td>\n",
              "      <td>4/4</td>\n",
              "      <td>0.227</td>\n",
              "    </tr>\n",
              "    <tr>\n",
              "      <th>4</th>\n",
              "      <td>Movie</td>\n",
              "      <td>Fabien Nataf</td>\n",
              "      <td>Ouverture</td>\n",
              "      <td>0IuslXpMROHdEPvSl1fTQK</td>\n",
              "      <td>4</td>\n",
              "      <td>0.950</td>\n",
              "      <td>0.331</td>\n",
              "      <td>82625</td>\n",
              "      <td>0.225</td>\n",
              "      <td>0.123</td>\n",
              "      <td>F</td>\n",
              "      <td>0.2020</td>\n",
              "      <td>-21.150</td>\n",
              "      <td>Major</td>\n",
              "      <td>0.0456</td>\n",
              "      <td>140.576</td>\n",
              "      <td>4/4</td>\n",
              "      <td>0.390</td>\n",
              "    </tr>\n",
              "  </tbody>\n",
              "</table>\n",
              "</div>\n",
              "    <div class=\"colab-df-buttons\">\n",
              "\n",
              "  <div class=\"colab-df-container\">\n",
              "    <button class=\"colab-df-convert\" onclick=\"convertToInteractive('df-177eb1c4-e03b-45e8-b191-5dc6b13778d5')\"\n",
              "            title=\"Convert this dataframe to an interactive table.\"\n",
              "            style=\"display:none;\">\n",
              "\n",
              "  <svg xmlns=\"http://www.w3.org/2000/svg\" height=\"24px\" viewBox=\"0 -960 960 960\">\n",
              "    <path d=\"M120-120v-720h720v720H120Zm60-500h600v-160H180v160Zm220 220h160v-160H400v160Zm0 220h160v-160H400v160ZM180-400h160v-160H180v160Zm440 0h160v-160H620v160ZM180-180h160v-160H180v160Zm440 0h160v-160H620v160Z\"/>\n",
              "  </svg>\n",
              "    </button>\n",
              "\n",
              "  <style>\n",
              "    .colab-df-container {\n",
              "      display:flex;\n",
              "      gap: 12px;\n",
              "    }\n",
              "\n",
              "    .colab-df-convert {\n",
              "      background-color: #E8F0FE;\n",
              "      border: none;\n",
              "      border-radius: 50%;\n",
              "      cursor: pointer;\n",
              "      display: none;\n",
              "      fill: #1967D2;\n",
              "      height: 32px;\n",
              "      padding: 0 0 0 0;\n",
              "      width: 32px;\n",
              "    }\n",
              "\n",
              "    .colab-df-convert:hover {\n",
              "      background-color: #E2EBFA;\n",
              "      box-shadow: 0px 1px 2px rgba(60, 64, 67, 0.3), 0px 1px 3px 1px rgba(60, 64, 67, 0.15);\n",
              "      fill: #174EA6;\n",
              "    }\n",
              "\n",
              "    .colab-df-buttons div {\n",
              "      margin-bottom: 4px;\n",
              "    }\n",
              "\n",
              "    [theme=dark] .colab-df-convert {\n",
              "      background-color: #3B4455;\n",
              "      fill: #D2E3FC;\n",
              "    }\n",
              "\n",
              "    [theme=dark] .colab-df-convert:hover {\n",
              "      background-color: #434B5C;\n",
              "      box-shadow: 0px 1px 3px 1px rgba(0, 0, 0, 0.15);\n",
              "      filter: drop-shadow(0px 1px 2px rgba(0, 0, 0, 0.3));\n",
              "      fill: #FFFFFF;\n",
              "    }\n",
              "  </style>\n",
              "\n",
              "    <script>\n",
              "      const buttonEl =\n",
              "        document.querySelector('#df-177eb1c4-e03b-45e8-b191-5dc6b13778d5 button.colab-df-convert');\n",
              "      buttonEl.style.display =\n",
              "        google.colab.kernel.accessAllowed ? 'block' : 'none';\n",
              "\n",
              "      async function convertToInteractive(key) {\n",
              "        const element = document.querySelector('#df-177eb1c4-e03b-45e8-b191-5dc6b13778d5');\n",
              "        const dataTable =\n",
              "          await google.colab.kernel.invokeFunction('convertToInteractive',\n",
              "                                                    [key], {});\n",
              "        if (!dataTable) return;\n",
              "\n",
              "        const docLinkHtml = 'Like what you see? Visit the ' +\n",
              "          '<a target=\"_blank\" href=https://colab.research.google.com/notebooks/data_table.ipynb>data table notebook</a>'\n",
              "          + ' to learn more about interactive tables.';\n",
              "        element.innerHTML = '';\n",
              "        dataTable['output_type'] = 'display_data';\n",
              "        await google.colab.output.renderOutput(dataTable, element);\n",
              "        const docLink = document.createElement('div');\n",
              "        docLink.innerHTML = docLinkHtml;\n",
              "        element.appendChild(docLink);\n",
              "      }\n",
              "    </script>\n",
              "  </div>\n",
              "\n",
              "\n",
              "    <div id=\"df-205411ce-9ee6-477d-ad6e-b34043b6cf20\">\n",
              "      <button class=\"colab-df-quickchart\" onclick=\"quickchart('df-205411ce-9ee6-477d-ad6e-b34043b6cf20')\"\n",
              "                title=\"Suggest charts\"\n",
              "                style=\"display:none;\">\n",
              "\n",
              "<svg xmlns=\"http://www.w3.org/2000/svg\" height=\"24px\"viewBox=\"0 0 24 24\"\n",
              "     width=\"24px\">\n",
              "    <g>\n",
              "        <path d=\"M19 3H5c-1.1 0-2 .9-2 2v14c0 1.1.9 2 2 2h14c1.1 0 2-.9 2-2V5c0-1.1-.9-2-2-2zM9 17H7v-7h2v7zm4 0h-2V7h2v10zm4 0h-2v-4h2v4z\"/>\n",
              "    </g>\n",
              "</svg>\n",
              "      </button>\n",
              "\n",
              "<style>\n",
              "  .colab-df-quickchart {\n",
              "      --bg-color: #E8F0FE;\n",
              "      --fill-color: #1967D2;\n",
              "      --hover-bg-color: #E2EBFA;\n",
              "      --hover-fill-color: #174EA6;\n",
              "      --disabled-fill-color: #AAA;\n",
              "      --disabled-bg-color: #DDD;\n",
              "  }\n",
              "\n",
              "  [theme=dark] .colab-df-quickchart {\n",
              "      --bg-color: #3B4455;\n",
              "      --fill-color: #D2E3FC;\n",
              "      --hover-bg-color: #434B5C;\n",
              "      --hover-fill-color: #FFFFFF;\n",
              "      --disabled-bg-color: #3B4455;\n",
              "      --disabled-fill-color: #666;\n",
              "  }\n",
              "\n",
              "  .colab-df-quickchart {\n",
              "    background-color: var(--bg-color);\n",
              "    border: none;\n",
              "    border-radius: 50%;\n",
              "    cursor: pointer;\n",
              "    display: none;\n",
              "    fill: var(--fill-color);\n",
              "    height: 32px;\n",
              "    padding: 0;\n",
              "    width: 32px;\n",
              "  }\n",
              "\n",
              "  .colab-df-quickchart:hover {\n",
              "    background-color: var(--hover-bg-color);\n",
              "    box-shadow: 0 1px 2px rgba(60, 64, 67, 0.3), 0 1px 3px 1px rgba(60, 64, 67, 0.15);\n",
              "    fill: var(--button-hover-fill-color);\n",
              "  }\n",
              "\n",
              "  .colab-df-quickchart-complete:disabled,\n",
              "  .colab-df-quickchart-complete:disabled:hover {\n",
              "    background-color: var(--disabled-bg-color);\n",
              "    fill: var(--disabled-fill-color);\n",
              "    box-shadow: none;\n",
              "  }\n",
              "\n",
              "  .colab-df-spinner {\n",
              "    border: 2px solid var(--fill-color);\n",
              "    border-color: transparent;\n",
              "    border-bottom-color: var(--fill-color);\n",
              "    animation:\n",
              "      spin 1s steps(1) infinite;\n",
              "  }\n",
              "\n",
              "  @keyframes spin {\n",
              "    0% {\n",
              "      border-color: transparent;\n",
              "      border-bottom-color: var(--fill-color);\n",
              "      border-left-color: var(--fill-color);\n",
              "    }\n",
              "    20% {\n",
              "      border-color: transparent;\n",
              "      border-left-color: var(--fill-color);\n",
              "      border-top-color: var(--fill-color);\n",
              "    }\n",
              "    30% {\n",
              "      border-color: transparent;\n",
              "      border-left-color: var(--fill-color);\n",
              "      border-top-color: var(--fill-color);\n",
              "      border-right-color: var(--fill-color);\n",
              "    }\n",
              "    40% {\n",
              "      border-color: transparent;\n",
              "      border-right-color: var(--fill-color);\n",
              "      border-top-color: var(--fill-color);\n",
              "    }\n",
              "    60% {\n",
              "      border-color: transparent;\n",
              "      border-right-color: var(--fill-color);\n",
              "    }\n",
              "    80% {\n",
              "      border-color: transparent;\n",
              "      border-right-color: var(--fill-color);\n",
              "      border-bottom-color: var(--fill-color);\n",
              "    }\n",
              "    90% {\n",
              "      border-color: transparent;\n",
              "      border-bottom-color: var(--fill-color);\n",
              "    }\n",
              "  }\n",
              "</style>\n",
              "\n",
              "      <script>\n",
              "        async function quickchart(key) {\n",
              "          const quickchartButtonEl =\n",
              "            document.querySelector('#' + key + ' button');\n",
              "          quickchartButtonEl.disabled = true;  // To prevent multiple clicks.\n",
              "          quickchartButtonEl.classList.add('colab-df-spinner');\n",
              "          try {\n",
              "            const charts = await google.colab.kernel.invokeFunction(\n",
              "                'suggestCharts', [key], {});\n",
              "          } catch (error) {\n",
              "            console.error('Error during call to suggestCharts:', error);\n",
              "          }\n",
              "          quickchartButtonEl.classList.remove('colab-df-spinner');\n",
              "          quickchartButtonEl.classList.add('colab-df-quickchart-complete');\n",
              "        }\n",
              "        (() => {\n",
              "          let quickchartButtonEl =\n",
              "            document.querySelector('#df-205411ce-9ee6-477d-ad6e-b34043b6cf20 button');\n",
              "          quickchartButtonEl.style.display =\n",
              "            google.colab.kernel.accessAllowed ? 'block' : 'none';\n",
              "        })();\n",
              "      </script>\n",
              "    </div>\n",
              "\n",
              "    </div>\n",
              "  </div>\n"
            ],
            "application/vnd.google.colaboratory.intrinsic+json": {
              "type": "dataframe",
              "variable_name": "df"
            }
          },
          "metadata": {},
          "execution_count": 2
        }
      ]
    },
    {
      "cell_type": "markdown",
      "source": [
        "## Informasi Dataset"
      ],
      "metadata": {
        "id": "nwPxg83z_ikg"
      }
    },
    {
      "cell_type": "code",
      "source": [
        "df.info()"
      ],
      "metadata": {
        "colab": {
          "base_uri": "https://localhost:8080/"
        },
        "id": "8aG457DhAHvO",
        "outputId": "b2c90dde-ab61-464b-ce08-f2a3a37acf89"
      },
      "execution_count": 3,
      "outputs": [
        {
          "output_type": "stream",
          "name": "stdout",
          "text": [
            "<class 'pandas.core.frame.DataFrame'>\n",
            "RangeIndex: 232725 entries, 0 to 232724\n",
            "Data columns (total 18 columns):\n",
            " #   Column            Non-Null Count   Dtype  \n",
            "---  ------            --------------   -----  \n",
            " 0   genre             232725 non-null  object \n",
            " 1   artist_name       232725 non-null  object \n",
            " 2   track_name        232724 non-null  object \n",
            " 3   track_id          232725 non-null  object \n",
            " 4   popularity        232725 non-null  int64  \n",
            " 5   acousticness      232725 non-null  float64\n",
            " 6   danceability      232725 non-null  float64\n",
            " 7   duration_ms       232725 non-null  int64  \n",
            " 8   energy            232725 non-null  float64\n",
            " 9   instrumentalness  232725 non-null  float64\n",
            " 10  key               232725 non-null  object \n",
            " 11  liveness          232725 non-null  float64\n",
            " 12  loudness          232725 non-null  float64\n",
            " 13  mode              232725 non-null  object \n",
            " 14  speechiness       232725 non-null  float64\n",
            " 15  tempo             232725 non-null  float64\n",
            " 16  time_signature    232725 non-null  object \n",
            " 17  valence           232725 non-null  float64\n",
            "dtypes: float64(9), int64(2), object(7)\n",
            "memory usage: 32.0+ MB\n"
          ]
        }
      ]
    },
    {
      "cell_type": "markdown",
      "source": [
        "**Insight**\n",
        "\n",
        "Dataset `df` memiliki jumlah baris sebanyak 232.725 baris dengan 18 fitur"
      ],
      "metadata": {
        "id": "k7BhllaU-i1_"
      }
    },
    {
      "cell_type": "code",
      "source": [
        "df.duplicated().sum()"
      ],
      "metadata": {
        "colab": {
          "base_uri": "https://localhost:8080/"
        },
        "id": "Pn280Zpqlh0H",
        "outputId": "0de1ae8a-50e4-48a6-d46d-56ce3d29084d"
      },
      "execution_count": 4,
      "outputs": [
        {
          "output_type": "execute_result",
          "data": {
            "text/plain": [
              "np.int64(0)"
            ]
          },
          "metadata": {},
          "execution_count": 4
        }
      ]
    },
    {
      "cell_type": "markdown",
      "source": [
        "**Insight:**\n",
        "\n",
        "Tidak terdapat data yang duplikat"
      ],
      "metadata": {
        "id": "yJoDZ4ExOntv"
      }
    },
    {
      "cell_type": "code",
      "source": [
        "df.isnull().sum()"
      ],
      "metadata": {
        "colab": {
          "base_uri": "https://localhost:8080/",
          "height": 649
        },
        "id": "g6U0g6xVlgjC",
        "outputId": "bed4e66a-6fa5-4b78-d262-c73f5f7029bc"
      },
      "execution_count": 5,
      "outputs": [
        {
          "output_type": "execute_result",
          "data": {
            "text/plain": [
              "genre               0\n",
              "artist_name         0\n",
              "track_name          1\n",
              "track_id            0\n",
              "popularity          0\n",
              "acousticness        0\n",
              "danceability        0\n",
              "duration_ms         0\n",
              "energy              0\n",
              "instrumentalness    0\n",
              "key                 0\n",
              "liveness            0\n",
              "loudness            0\n",
              "mode                0\n",
              "speechiness         0\n",
              "tempo               0\n",
              "time_signature      0\n",
              "valence             0\n",
              "dtype: int64"
            ],
            "text/html": [
              "<div>\n",
              "<style scoped>\n",
              "    .dataframe tbody tr th:only-of-type {\n",
              "        vertical-align: middle;\n",
              "    }\n",
              "\n",
              "    .dataframe tbody tr th {\n",
              "        vertical-align: top;\n",
              "    }\n",
              "\n",
              "    .dataframe thead th {\n",
              "        text-align: right;\n",
              "    }\n",
              "</style>\n",
              "<table border=\"1\" class=\"dataframe\">\n",
              "  <thead>\n",
              "    <tr style=\"text-align: right;\">\n",
              "      <th></th>\n",
              "      <th>0</th>\n",
              "    </tr>\n",
              "  </thead>\n",
              "  <tbody>\n",
              "    <tr>\n",
              "      <th>genre</th>\n",
              "      <td>0</td>\n",
              "    </tr>\n",
              "    <tr>\n",
              "      <th>artist_name</th>\n",
              "      <td>0</td>\n",
              "    </tr>\n",
              "    <tr>\n",
              "      <th>track_name</th>\n",
              "      <td>1</td>\n",
              "    </tr>\n",
              "    <tr>\n",
              "      <th>track_id</th>\n",
              "      <td>0</td>\n",
              "    </tr>\n",
              "    <tr>\n",
              "      <th>popularity</th>\n",
              "      <td>0</td>\n",
              "    </tr>\n",
              "    <tr>\n",
              "      <th>acousticness</th>\n",
              "      <td>0</td>\n",
              "    </tr>\n",
              "    <tr>\n",
              "      <th>danceability</th>\n",
              "      <td>0</td>\n",
              "    </tr>\n",
              "    <tr>\n",
              "      <th>duration_ms</th>\n",
              "      <td>0</td>\n",
              "    </tr>\n",
              "    <tr>\n",
              "      <th>energy</th>\n",
              "      <td>0</td>\n",
              "    </tr>\n",
              "    <tr>\n",
              "      <th>instrumentalness</th>\n",
              "      <td>0</td>\n",
              "    </tr>\n",
              "    <tr>\n",
              "      <th>key</th>\n",
              "      <td>0</td>\n",
              "    </tr>\n",
              "    <tr>\n",
              "      <th>liveness</th>\n",
              "      <td>0</td>\n",
              "    </tr>\n",
              "    <tr>\n",
              "      <th>loudness</th>\n",
              "      <td>0</td>\n",
              "    </tr>\n",
              "    <tr>\n",
              "      <th>mode</th>\n",
              "      <td>0</td>\n",
              "    </tr>\n",
              "    <tr>\n",
              "      <th>speechiness</th>\n",
              "      <td>0</td>\n",
              "    </tr>\n",
              "    <tr>\n",
              "      <th>tempo</th>\n",
              "      <td>0</td>\n",
              "    </tr>\n",
              "    <tr>\n",
              "      <th>time_signature</th>\n",
              "      <td>0</td>\n",
              "    </tr>\n",
              "    <tr>\n",
              "      <th>valence</th>\n",
              "      <td>0</td>\n",
              "    </tr>\n",
              "  </tbody>\n",
              "</table>\n",
              "</div><br><label><b>dtype:</b> int64</label>"
            ]
          },
          "metadata": {},
          "execution_count": 5
        }
      ]
    },
    {
      "cell_type": "markdown",
      "source": [
        "**Insight:**\n",
        "\n",
        "Terdapat 1 missing value dari fitur `track_name`"
      ],
      "metadata": {
        "id": "trVsO56OOeCB"
      }
    },
    {
      "cell_type": "markdown",
      "source": [
        "## Menguraikan Seluruh Fitur Pada Dataset\n",
        "\n"
      ],
      "metadata": {
        "id": "v-9W8Q4B-Xe2"
      }
    },
    {
      "cell_type": "markdown",
      "source": [
        "**Berikut adalah penjelasan masing-masing fitur dalam dataset:**\n",
        "- `genre`: Kategori genre lagu, berguna untuk segmentasi preferensi musik pengguna (tipe data kategori).\n",
        "- `artist_name`: Nama artis/band yang membawakan lagu tersebut (tipe data kategori).\n",
        "- `track_name`: Judul lagu (tipe data kategori).\n",
        "- `track_id`: ID unik dari lagu, sebagai pengenal dalam sistem (tipe data kategori).\n",
        "- `popularity`: Skor popularitas lagu berdasarkan jumlah pemutaran atau eksposur di platform digital (tipe data numerik).\n",
        "- `acousticness`: Nilai lebih tinggi maka lagu lebih akustik (tipe data numerik).\n",
        "- `danceability`: Menggambarkan seberapa cocok lagu untuk menari, berdasarkan tempo, irama, dan kestabilan beat (tipe data numerik).\n",
        "- `duration_ms`: \tDurasi lagu dalam milidetik (tipe data numerik).\n",
        "- `energy`: Lagu dengan nilai tinggi biasanya cepat dan keras (tipe data numerik).\n",
        "- `instrumentalness`: Nilai mendekati 1 menunjukkan lagu sangat instrumental (tipe data numerik).\n",
        "- `key`: Menunjukkan tangga nada dasar lagu (tipe data kategori).\n",
        "- `liveness`: Mengindikasikan kemungkinan lagu direkam live (tipe data numerik).\n",
        "- `loudness`: Tingkat kekerasan lagu (dalam dB). Bisa berpengaruh ke energi atau mood (tipe data numerik).\n",
        "- `mode`: Mayor/minor (biasanya 1 = mayor, 0 = minor) (tipe data kategori).\n",
        "- `speechiness`: Mengukur seberapa banyak elemen vokal/spoken. Mebedakan lagu instrumental vs lagu rap (tipe data numerik).\n",
        "- `tempo`: Kecepatan lagu dalam BPM. Berpengaruh pada gaya musik dan mood (tipe data numerik).\n",
        "- `time_signature`: Menunjukkan struktur ketukan lagu (umumnya 4/4) (tipe data kategori).\n",
        "- `valence`: Mengukur kebahagiaan/mood lagu (0 = sedih, 1 = bahagia) (tipe data numerik).\n"
      ],
      "metadata": {
        "id": "QEb9XoSiAMw_"
      }
    },
    {
      "cell_type": "code",
      "source": [
        "df.describe()"
      ],
      "metadata": {
        "colab": {
          "base_uri": "https://localhost:8080/",
          "height": 320
        },
        "id": "VOEQj882Mnnm",
        "outputId": "d3993980-5312-4b40-f009-ee484b17d694"
      },
      "execution_count": 6,
      "outputs": [
        {
          "output_type": "execute_result",
          "data": {
            "text/plain": [
              "          popularity   acousticness   danceability   duration_ms  \\\n",
              "count  232725.000000  232725.000000  232725.000000  2.327250e+05   \n",
              "mean       41.127502       0.368560       0.554364  2.351223e+05   \n",
              "std        18.189948       0.354768       0.185608  1.189359e+05   \n",
              "min         0.000000       0.000000       0.056900  1.538700e+04   \n",
              "25%        29.000000       0.037600       0.435000  1.828570e+05   \n",
              "50%        43.000000       0.232000       0.571000  2.204270e+05   \n",
              "75%        55.000000       0.722000       0.692000  2.657680e+05   \n",
              "max       100.000000       0.996000       0.989000  5.552917e+06   \n",
              "\n",
              "              energy  instrumentalness       liveness       loudness  \\\n",
              "count  232725.000000     232725.000000  232725.000000  232725.000000   \n",
              "mean        0.570958          0.148301       0.215009      -9.569885   \n",
              "std         0.263456          0.302768       0.198273       5.998204   \n",
              "min         0.000020          0.000000       0.009670     -52.457000   \n",
              "25%         0.385000          0.000000       0.097400     -11.771000   \n",
              "50%         0.605000          0.000044       0.128000      -7.762000   \n",
              "75%         0.787000          0.035800       0.264000      -5.501000   \n",
              "max         0.999000          0.999000       1.000000       3.744000   \n",
              "\n",
              "         speechiness          tempo        valence  \n",
              "count  232725.000000  232725.000000  232725.000000  \n",
              "mean        0.120765     117.666585       0.454917  \n",
              "std         0.185518      30.898907       0.260065  \n",
              "min         0.022200      30.379000       0.000000  \n",
              "25%         0.036700      92.959000       0.237000  \n",
              "50%         0.050100     115.778000       0.444000  \n",
              "75%         0.105000     139.054000       0.660000  \n",
              "max         0.967000     242.903000       1.000000  "
            ],
            "text/html": [
              "\n",
              "  <div id=\"df-818dc3b2-3fcf-452c-a4c2-9af4be798466\" class=\"colab-df-container\">\n",
              "    <div>\n",
              "<style scoped>\n",
              "    .dataframe tbody tr th:only-of-type {\n",
              "        vertical-align: middle;\n",
              "    }\n",
              "\n",
              "    .dataframe tbody tr th {\n",
              "        vertical-align: top;\n",
              "    }\n",
              "\n",
              "    .dataframe thead th {\n",
              "        text-align: right;\n",
              "    }\n",
              "</style>\n",
              "<table border=\"1\" class=\"dataframe\">\n",
              "  <thead>\n",
              "    <tr style=\"text-align: right;\">\n",
              "      <th></th>\n",
              "      <th>popularity</th>\n",
              "      <th>acousticness</th>\n",
              "      <th>danceability</th>\n",
              "      <th>duration_ms</th>\n",
              "      <th>energy</th>\n",
              "      <th>instrumentalness</th>\n",
              "      <th>liveness</th>\n",
              "      <th>loudness</th>\n",
              "      <th>speechiness</th>\n",
              "      <th>tempo</th>\n",
              "      <th>valence</th>\n",
              "    </tr>\n",
              "  </thead>\n",
              "  <tbody>\n",
              "    <tr>\n",
              "      <th>count</th>\n",
              "      <td>232725.000000</td>\n",
              "      <td>232725.000000</td>\n",
              "      <td>232725.000000</td>\n",
              "      <td>2.327250e+05</td>\n",
              "      <td>232725.000000</td>\n",
              "      <td>232725.000000</td>\n",
              "      <td>232725.000000</td>\n",
              "      <td>232725.000000</td>\n",
              "      <td>232725.000000</td>\n",
              "      <td>232725.000000</td>\n",
              "      <td>232725.000000</td>\n",
              "    </tr>\n",
              "    <tr>\n",
              "      <th>mean</th>\n",
              "      <td>41.127502</td>\n",
              "      <td>0.368560</td>\n",
              "      <td>0.554364</td>\n",
              "      <td>2.351223e+05</td>\n",
              "      <td>0.570958</td>\n",
              "      <td>0.148301</td>\n",
              "      <td>0.215009</td>\n",
              "      <td>-9.569885</td>\n",
              "      <td>0.120765</td>\n",
              "      <td>117.666585</td>\n",
              "      <td>0.454917</td>\n",
              "    </tr>\n",
              "    <tr>\n",
              "      <th>std</th>\n",
              "      <td>18.189948</td>\n",
              "      <td>0.354768</td>\n",
              "      <td>0.185608</td>\n",
              "      <td>1.189359e+05</td>\n",
              "      <td>0.263456</td>\n",
              "      <td>0.302768</td>\n",
              "      <td>0.198273</td>\n",
              "      <td>5.998204</td>\n",
              "      <td>0.185518</td>\n",
              "      <td>30.898907</td>\n",
              "      <td>0.260065</td>\n",
              "    </tr>\n",
              "    <tr>\n",
              "      <th>min</th>\n",
              "      <td>0.000000</td>\n",
              "      <td>0.000000</td>\n",
              "      <td>0.056900</td>\n",
              "      <td>1.538700e+04</td>\n",
              "      <td>0.000020</td>\n",
              "      <td>0.000000</td>\n",
              "      <td>0.009670</td>\n",
              "      <td>-52.457000</td>\n",
              "      <td>0.022200</td>\n",
              "      <td>30.379000</td>\n",
              "      <td>0.000000</td>\n",
              "    </tr>\n",
              "    <tr>\n",
              "      <th>25%</th>\n",
              "      <td>29.000000</td>\n",
              "      <td>0.037600</td>\n",
              "      <td>0.435000</td>\n",
              "      <td>1.828570e+05</td>\n",
              "      <td>0.385000</td>\n",
              "      <td>0.000000</td>\n",
              "      <td>0.097400</td>\n",
              "      <td>-11.771000</td>\n",
              "      <td>0.036700</td>\n",
              "      <td>92.959000</td>\n",
              "      <td>0.237000</td>\n",
              "    </tr>\n",
              "    <tr>\n",
              "      <th>50%</th>\n",
              "      <td>43.000000</td>\n",
              "      <td>0.232000</td>\n",
              "      <td>0.571000</td>\n",
              "      <td>2.204270e+05</td>\n",
              "      <td>0.605000</td>\n",
              "      <td>0.000044</td>\n",
              "      <td>0.128000</td>\n",
              "      <td>-7.762000</td>\n",
              "      <td>0.050100</td>\n",
              "      <td>115.778000</td>\n",
              "      <td>0.444000</td>\n",
              "    </tr>\n",
              "    <tr>\n",
              "      <th>75%</th>\n",
              "      <td>55.000000</td>\n",
              "      <td>0.722000</td>\n",
              "      <td>0.692000</td>\n",
              "      <td>2.657680e+05</td>\n",
              "      <td>0.787000</td>\n",
              "      <td>0.035800</td>\n",
              "      <td>0.264000</td>\n",
              "      <td>-5.501000</td>\n",
              "      <td>0.105000</td>\n",
              "      <td>139.054000</td>\n",
              "      <td>0.660000</td>\n",
              "    </tr>\n",
              "    <tr>\n",
              "      <th>max</th>\n",
              "      <td>100.000000</td>\n",
              "      <td>0.996000</td>\n",
              "      <td>0.989000</td>\n",
              "      <td>5.552917e+06</td>\n",
              "      <td>0.999000</td>\n",
              "      <td>0.999000</td>\n",
              "      <td>1.000000</td>\n",
              "      <td>3.744000</td>\n",
              "      <td>0.967000</td>\n",
              "      <td>242.903000</td>\n",
              "      <td>1.000000</td>\n",
              "    </tr>\n",
              "  </tbody>\n",
              "</table>\n",
              "</div>\n",
              "    <div class=\"colab-df-buttons\">\n",
              "\n",
              "  <div class=\"colab-df-container\">\n",
              "    <button class=\"colab-df-convert\" onclick=\"convertToInteractive('df-818dc3b2-3fcf-452c-a4c2-9af4be798466')\"\n",
              "            title=\"Convert this dataframe to an interactive table.\"\n",
              "            style=\"display:none;\">\n",
              "\n",
              "  <svg xmlns=\"http://www.w3.org/2000/svg\" height=\"24px\" viewBox=\"0 -960 960 960\">\n",
              "    <path d=\"M120-120v-720h720v720H120Zm60-500h600v-160H180v160Zm220 220h160v-160H400v160Zm0 220h160v-160H400v160ZM180-400h160v-160H180v160Zm440 0h160v-160H620v160ZM180-180h160v-160H180v160Zm440 0h160v-160H620v160Z\"/>\n",
              "  </svg>\n",
              "    </button>\n",
              "\n",
              "  <style>\n",
              "    .colab-df-container {\n",
              "      display:flex;\n",
              "      gap: 12px;\n",
              "    }\n",
              "\n",
              "    .colab-df-convert {\n",
              "      background-color: #E8F0FE;\n",
              "      border: none;\n",
              "      border-radius: 50%;\n",
              "      cursor: pointer;\n",
              "      display: none;\n",
              "      fill: #1967D2;\n",
              "      height: 32px;\n",
              "      padding: 0 0 0 0;\n",
              "      width: 32px;\n",
              "    }\n",
              "\n",
              "    .colab-df-convert:hover {\n",
              "      background-color: #E2EBFA;\n",
              "      box-shadow: 0px 1px 2px rgba(60, 64, 67, 0.3), 0px 1px 3px 1px rgba(60, 64, 67, 0.15);\n",
              "      fill: #174EA6;\n",
              "    }\n",
              "\n",
              "    .colab-df-buttons div {\n",
              "      margin-bottom: 4px;\n",
              "    }\n",
              "\n",
              "    [theme=dark] .colab-df-convert {\n",
              "      background-color: #3B4455;\n",
              "      fill: #D2E3FC;\n",
              "    }\n",
              "\n",
              "    [theme=dark] .colab-df-convert:hover {\n",
              "      background-color: #434B5C;\n",
              "      box-shadow: 0px 1px 3px 1px rgba(0, 0, 0, 0.15);\n",
              "      filter: drop-shadow(0px 1px 2px rgba(0, 0, 0, 0.3));\n",
              "      fill: #FFFFFF;\n",
              "    }\n",
              "  </style>\n",
              "\n",
              "    <script>\n",
              "      const buttonEl =\n",
              "        document.querySelector('#df-818dc3b2-3fcf-452c-a4c2-9af4be798466 button.colab-df-convert');\n",
              "      buttonEl.style.display =\n",
              "        google.colab.kernel.accessAllowed ? 'block' : 'none';\n",
              "\n",
              "      async function convertToInteractive(key) {\n",
              "        const element = document.querySelector('#df-818dc3b2-3fcf-452c-a4c2-9af4be798466');\n",
              "        const dataTable =\n",
              "          await google.colab.kernel.invokeFunction('convertToInteractive',\n",
              "                                                    [key], {});\n",
              "        if (!dataTable) return;\n",
              "\n",
              "        const docLinkHtml = 'Like what you see? Visit the ' +\n",
              "          '<a target=\"_blank\" href=https://colab.research.google.com/notebooks/data_table.ipynb>data table notebook</a>'\n",
              "          + ' to learn more about interactive tables.';\n",
              "        element.innerHTML = '';\n",
              "        dataTable['output_type'] = 'display_data';\n",
              "        await google.colab.output.renderOutput(dataTable, element);\n",
              "        const docLink = document.createElement('div');\n",
              "        docLink.innerHTML = docLinkHtml;\n",
              "        element.appendChild(docLink);\n",
              "      }\n",
              "    </script>\n",
              "  </div>\n",
              "\n",
              "\n",
              "    <div id=\"df-c233b246-00b4-4703-b00b-ebc577827f2a\">\n",
              "      <button class=\"colab-df-quickchart\" onclick=\"quickchart('df-c233b246-00b4-4703-b00b-ebc577827f2a')\"\n",
              "                title=\"Suggest charts\"\n",
              "                style=\"display:none;\">\n",
              "\n",
              "<svg xmlns=\"http://www.w3.org/2000/svg\" height=\"24px\"viewBox=\"0 0 24 24\"\n",
              "     width=\"24px\">\n",
              "    <g>\n",
              "        <path d=\"M19 3H5c-1.1 0-2 .9-2 2v14c0 1.1.9 2 2 2h14c1.1 0 2-.9 2-2V5c0-1.1-.9-2-2-2zM9 17H7v-7h2v7zm4 0h-2V7h2v10zm4 0h-2v-4h2v4z\"/>\n",
              "    </g>\n",
              "</svg>\n",
              "      </button>\n",
              "\n",
              "<style>\n",
              "  .colab-df-quickchart {\n",
              "      --bg-color: #E8F0FE;\n",
              "      --fill-color: #1967D2;\n",
              "      --hover-bg-color: #E2EBFA;\n",
              "      --hover-fill-color: #174EA6;\n",
              "      --disabled-fill-color: #AAA;\n",
              "      --disabled-bg-color: #DDD;\n",
              "  }\n",
              "\n",
              "  [theme=dark] .colab-df-quickchart {\n",
              "      --bg-color: #3B4455;\n",
              "      --fill-color: #D2E3FC;\n",
              "      --hover-bg-color: #434B5C;\n",
              "      --hover-fill-color: #FFFFFF;\n",
              "      --disabled-bg-color: #3B4455;\n",
              "      --disabled-fill-color: #666;\n",
              "  }\n",
              "\n",
              "  .colab-df-quickchart {\n",
              "    background-color: var(--bg-color);\n",
              "    border: none;\n",
              "    border-radius: 50%;\n",
              "    cursor: pointer;\n",
              "    display: none;\n",
              "    fill: var(--fill-color);\n",
              "    height: 32px;\n",
              "    padding: 0;\n",
              "    width: 32px;\n",
              "  }\n",
              "\n",
              "  .colab-df-quickchart:hover {\n",
              "    background-color: var(--hover-bg-color);\n",
              "    box-shadow: 0 1px 2px rgba(60, 64, 67, 0.3), 0 1px 3px 1px rgba(60, 64, 67, 0.15);\n",
              "    fill: var(--button-hover-fill-color);\n",
              "  }\n",
              "\n",
              "  .colab-df-quickchart-complete:disabled,\n",
              "  .colab-df-quickchart-complete:disabled:hover {\n",
              "    background-color: var(--disabled-bg-color);\n",
              "    fill: var(--disabled-fill-color);\n",
              "    box-shadow: none;\n",
              "  }\n",
              "\n",
              "  .colab-df-spinner {\n",
              "    border: 2px solid var(--fill-color);\n",
              "    border-color: transparent;\n",
              "    border-bottom-color: var(--fill-color);\n",
              "    animation:\n",
              "      spin 1s steps(1) infinite;\n",
              "  }\n",
              "\n",
              "  @keyframes spin {\n",
              "    0% {\n",
              "      border-color: transparent;\n",
              "      border-bottom-color: var(--fill-color);\n",
              "      border-left-color: var(--fill-color);\n",
              "    }\n",
              "    20% {\n",
              "      border-color: transparent;\n",
              "      border-left-color: var(--fill-color);\n",
              "      border-top-color: var(--fill-color);\n",
              "    }\n",
              "    30% {\n",
              "      border-color: transparent;\n",
              "      border-left-color: var(--fill-color);\n",
              "      border-top-color: var(--fill-color);\n",
              "      border-right-color: var(--fill-color);\n",
              "    }\n",
              "    40% {\n",
              "      border-color: transparent;\n",
              "      border-right-color: var(--fill-color);\n",
              "      border-top-color: var(--fill-color);\n",
              "    }\n",
              "    60% {\n",
              "      border-color: transparent;\n",
              "      border-right-color: var(--fill-color);\n",
              "    }\n",
              "    80% {\n",
              "      border-color: transparent;\n",
              "      border-right-color: var(--fill-color);\n",
              "      border-bottom-color: var(--fill-color);\n",
              "    }\n",
              "    90% {\n",
              "      border-color: transparent;\n",
              "      border-bottom-color: var(--fill-color);\n",
              "    }\n",
              "  }\n",
              "</style>\n",
              "\n",
              "      <script>\n",
              "        async function quickchart(key) {\n",
              "          const quickchartButtonEl =\n",
              "            document.querySelector('#' + key + ' button');\n",
              "          quickchartButtonEl.disabled = true;  // To prevent multiple clicks.\n",
              "          quickchartButtonEl.classList.add('colab-df-spinner');\n",
              "          try {\n",
              "            const charts = await google.colab.kernel.invokeFunction(\n",
              "                'suggestCharts', [key], {});\n",
              "          } catch (error) {\n",
              "            console.error('Error during call to suggestCharts:', error);\n",
              "          }\n",
              "          quickchartButtonEl.classList.remove('colab-df-spinner');\n",
              "          quickchartButtonEl.classList.add('colab-df-quickchart-complete');\n",
              "        }\n",
              "        (() => {\n",
              "          let quickchartButtonEl =\n",
              "            document.querySelector('#df-c233b246-00b4-4703-b00b-ebc577827f2a button');\n",
              "          quickchartButtonEl.style.display =\n",
              "            google.colab.kernel.accessAllowed ? 'block' : 'none';\n",
              "        })();\n",
              "      </script>\n",
              "    </div>\n",
              "\n",
              "    </div>\n",
              "  </div>\n"
            ],
            "application/vnd.google.colaboratory.intrinsic+json": {
              "type": "dataframe",
              "summary": "{\n  \"name\": \"df\",\n  \"rows\": 8,\n  \"fields\": [\n    {\n      \"column\": \"popularity\",\n      \"properties\": {\n        \"dtype\": \"number\",\n        \"std\": 82266.25684314243,\n        \"min\": 0.0,\n        \"max\": 232725.0,\n        \"num_unique_values\": 8,\n        \"samples\": [\n          41.12750241701579,\n          43.0,\n          232725.0\n        ],\n        \"semantic_type\": \"\",\n        \"description\": \"\"\n      }\n    },\n    {\n      \"column\": \"acousticness\",\n      \"properties\": {\n        \"dtype\": \"number\",\n        \"std\": 82280.57590393141,\n        \"min\": 0.0,\n        \"max\": 232725.0,\n        \"num_unique_values\": 8,\n        \"samples\": [\n          0.3685604517564507,\n          0.232,\n          232725.0\n        ],\n        \"semantic_type\": \"\",\n        \"description\": \"\"\n      }\n    },\n    {\n      \"column\": \"danceability\",\n      \"properties\": {\n        \"dtype\": \"number\",\n        \"std\": 82280.53686418268,\n        \"min\": 0.0569,\n        \"max\": 232725.0,\n        \"num_unique_values\": 8,\n        \"samples\": [\n          0.5543644692233323,\n          0.571,\n          232725.0\n        ],\n        \"semantic_type\": \"\",\n        \"description\": \"\"\n      }\n    },\n    {\n      \"column\": \"duration_ms\",\n      \"properties\": {\n        \"dtype\": \"number\",\n        \"std\": 1900761.5381097863,\n        \"min\": 15387.0,\n        \"max\": 5552917.0,\n        \"num_unique_values\": 8,\n        \"samples\": [\n          235122.3393060479,\n          220427.0,\n          232725.0\n        ],\n        \"semantic_type\": \"\",\n        \"description\": \"\"\n      }\n    },\n    {\n      \"column\": \"energy\",\n      \"properties\": {\n        \"dtype\": \"number\",\n        \"std\": 82280.53047196566,\n        \"min\": 2.03e-05,\n        \"max\": 232725.0,\n        \"num_unique_values\": 8,\n        \"samples\": [\n          0.5709576734712644,\n          0.605,\n          232725.0\n        ],\n        \"semantic_type\": \"\",\n        \"description\": \"\"\n      }\n    },\n    {\n      \"column\": \"instrumentalness\",\n      \"properties\": {\n        \"dtype\": \"number\",\n        \"std\": 82280.63777652671,\n        \"min\": 0.0,\n        \"max\": 232725.0,\n        \"num_unique_values\": 7,\n        \"samples\": [\n          232725.0,\n          0.14830123363970352,\n          0.0358\n        ],\n        \"semantic_type\": \"\",\n        \"description\": \"\"\n      }\n    },\n    {\n      \"column\": \"liveness\",\n      \"properties\": {\n        \"dtype\": \"number\",\n        \"std\": 82280.61623803616,\n        \"min\": 0.00967,\n        \"max\": 232725.0,\n        \"num_unique_values\": 8,\n        \"samples\": [\n          0.2150092845203567,\n          0.128,\n          232725.0\n        ],\n        \"semantic_type\": \"\",\n        \"description\": \"\"\n      }\n    },\n    {\n      \"column\": \"loudness\",\n      \"properties\": {\n        \"dtype\": \"number\",\n        \"std\": 82284.6199780615,\n        \"min\": -52.457,\n        \"max\": 232725.0,\n        \"num_unique_values\": 8,\n        \"samples\": [\n          -9.56988540122462,\n          -7.762,\n          232725.0\n        ],\n        \"semantic_type\": \"\",\n        \"description\": \"\"\n      }\n    },\n    {\n      \"column\": \"speechiness\",\n      \"properties\": {\n        \"dtype\": \"number\",\n        \"std\": 82280.63770726143,\n        \"min\": 0.0222,\n        \"max\": 232725.0,\n        \"num_unique_values\": 8,\n        \"samples\": [\n          0.12076501450209476,\n          0.0501,\n          232725.0\n        ],\n        \"semantic_type\": \"\",\n        \"description\": \"\"\n      }\n    },\n    {\n      \"column\": \"tempo\",\n      \"properties\": {\n        \"dtype\": \"number\",\n        \"std\": 82241.86755828538,\n        \"min\": 30.379,\n        \"max\": 232725.0,\n        \"num_unique_values\": 8,\n        \"samples\": [\n          117.66658489203998,\n          115.778,\n          232725.0\n        ],\n        \"semantic_type\": \"\",\n        \"description\": \"\"\n      }\n    },\n    {\n      \"column\": \"valence\",\n      \"properties\": {\n        \"dtype\": \"number\",\n        \"std\": 82280.55847594912,\n        \"min\": 0.0,\n        \"max\": 232725.0,\n        \"num_unique_values\": 8,\n        \"samples\": [\n          0.45491685594585873,\n          0.444,\n          232725.0\n        ],\n        \"semantic_type\": \"\",\n        \"description\": \"\"\n      }\n    }\n  ]\n}"
            }
          },
          "metadata": {},
          "execution_count": 6
        }
      ]
    },
    {
      "cell_type": "markdown",
      "source": [
        "**Insight:**\n",
        "\n",
        "1. Dataset ini terdiri dari 232725 data\n",
        "2. Dataset ini terdiri dari 18 fitur\n",
        "3. Terdapat 1 missing value\n",
        "4. Tidak terdapat data yang duplikat\n",
        "5. Rangkuman Statistik Deskriptif"
      ],
      "metadata": {
        "id": "7P_OkLDMO3yi"
      }
    },
    {
      "cell_type": "markdown",
      "source": [
        "### CountAndPlot"
      ],
      "metadata": {
        "id": "HzN5omVporCQ"
      }
    },
    {
      "cell_type": "markdown",
      "source": [
        "Untuk menghitung jumlah dan persentase kemunculan tiap kategori dalam sebuah fitur (kolom) DataFrame, menampilkannya dalam bentuk tabel, lalu memvisualisasikannya sebagai grafik batang. Dalam proyek ini akan difokuskan pada fitur `genre`\n",
        "\n"
      ],
      "metadata": {
        "id": "Nr6J7_5cotA7"
      }
    },
    {
      "cell_type": "code",
      "source": [
        "def CountAndPlot(df, feature):\n",
        "  count = df[feature].value_counts()\n",
        "  percent = 100*df[feature].value_counts(normalize=True)\n",
        "  samples = pd.DataFrame({'Sample Count':count, 'Percentage':percent.round(1)})\n",
        "  print(samples)\n",
        "  count.plot(kind='bar', title=feature)"
      ],
      "metadata": {
        "id": "lRjG8bwVmB_9"
      },
      "execution_count": 7,
      "outputs": []
    },
    {
      "cell_type": "code",
      "source": [
        "CountAndPlot(df, 'genre')"
      ],
      "metadata": {
        "colab": {
          "base_uri": "https://localhost:8080/",
          "height": 1000
        },
        "id": "SJahcT6atgMd",
        "outputId": "4bf8ce6c-3d6c-4c70-9ebb-dc90a04ed5f5"
      },
      "execution_count": 8,
      "outputs": [
        {
          "output_type": "stream",
          "name": "stdout",
          "text": [
            "                  Sample Count  Percentage\n",
            "genre                                     \n",
            "Comedy                    9681         4.2\n",
            "Soundtrack                9646         4.1\n",
            "Indie                     9543         4.1\n",
            "Jazz                      9441         4.1\n",
            "Pop                       9386         4.0\n",
            "Electronic                9377         4.0\n",
            "Children’s Music          9353         4.0\n",
            "Folk                      9299         4.0\n",
            "Hip-Hop                   9295         4.0\n",
            "Rock                      9272         4.0\n",
            "Alternative               9263         4.0\n",
            "Classical                 9256         4.0\n",
            "Rap                       9232         4.0\n",
            "World                     9096         3.9\n",
            "Soul                      9089         3.9\n",
            "Blues                     9023         3.9\n",
            "R&B                       8992         3.9\n",
            "Anime                     8936         3.8\n",
            "Reggaeton                 8927         3.8\n",
            "Ska                       8874         3.8\n",
            "Reggae                    8771         3.8\n",
            "Dance                     8701         3.7\n",
            "Country                   8664         3.7\n",
            "Opera                     8280         3.6\n",
            "Movie                     7806         3.4\n",
            "Children's Music          5403         2.3\n",
            "A Capella                  119         0.1\n"
          ]
        },
        {
          "output_type": "display_data",
          "data": {
            "text/plain": [
              "<Figure size 640x480 with 1 Axes>"
            ],
            "image/png": "[encoded data removed]"
          },
          "metadata": {}
        }
      ]
    },
    {
      "cell_type": "markdown",
      "source": [
        "**Insight:**\n",
        "\n",
        "Terdapat genre musik Children's Music yang muncul dua kali dengan jumlah berbeda, perlu dilakukan analisis lebih lanjut"
      ],
      "metadata": {
        "id": "3KDK8-c034fg"
      }
    },
    {
      "cell_type": "markdown",
      "source": [
        "# Data Preprocessing"
      ],
      "metadata": {
        "id": "YjdyBcQFA-RE"
      }
    },
    {
      "cell_type": "markdown",
      "source": [
        "Pada tahap ini, dilakukan pembersihan data menangani missing values, mengatasi kedua nama genre yang mirip, dan memilih fitur yang relevan. Proses ini bertujuan untuk memastikan bahwa data yang digunakan bersih dan siap untuk dianalisis lebih lanjut."
      ],
      "metadata": {
        "id": "pFEA1dOYBMQw"
      }
    },
    {
      "cell_type": "markdown",
      "source": [
        "## Mengatasi Missing Value\n",
        "\n",
        "Dilakukan drop pada baris yang terdapat missing value"
      ],
      "metadata": {
        "id": "QTVUqmqOBf5y"
      }
    },
    {
      "cell_type": "code",
      "source": [
        "df = df.dropna(subset=['track_name'])"
      ],
      "metadata": {
        "id": "EyfQTO3CBhJ3"
      },
      "execution_count": 9,
      "outputs": []
    },
    {
      "cell_type": "code",
      "source": [
        "df.isnull().sum()"
      ],
      "metadata": {
        "colab": {
          "base_uri": "https://localhost:8080/",
          "height": 649
        },
        "id": "GbWf0MxxxMk3",
        "outputId": "54e23a42-0638-4911-f64e-a478104eeddf"
      },
      "execution_count": 10,
      "outputs": [
        {
          "output_type": "execute_result",
          "data": {
            "text/plain": [
              "genre               0\n",
              "artist_name         0\n",
              "track_name          0\n",
              "track_id            0\n",
              "popularity          0\n",
              "acousticness        0\n",
              "danceability        0\n",
              "duration_ms         0\n",
              "energy              0\n",
              "instrumentalness    0\n",
              "key                 0\n",
              "liveness            0\n",
              "loudness            0\n",
              "mode                0\n",
              "speechiness         0\n",
              "tempo               0\n",
              "time_signature      0\n",
              "valence             0\n",
              "dtype: int64"
            ],
            "text/html": [
              "<div>\n",
              "<style scoped>\n",
              "    .dataframe tbody tr th:only-of-type {\n",
              "        vertical-align: middle;\n",
              "    }\n",
              "\n",
              "    .dataframe tbody tr th {\n",
              "        vertical-align: top;\n",
              "    }\n",
              "\n",
              "    .dataframe thead th {\n",
              "        text-align: right;\n",
              "    }\n",
              "</style>\n",
              "<table border=\"1\" class=\"dataframe\">\n",
              "  <thead>\n",
              "    <tr style=\"text-align: right;\">\n",
              "      <th></th>\n",
              "      <th>0</th>\n",
              "    </tr>\n",
              "  </thead>\n",
              "  <tbody>\n",
              "    <tr>\n",
              "      <th>genre</th>\n",
              "      <td>0</td>\n",
              "    </tr>\n",
              "    <tr>\n",
              "      <th>artist_name</th>\n",
              "      <td>0</td>\n",
              "    </tr>\n",
              "    <tr>\n",
              "      <th>track_name</th>\n",
              "      <td>0</td>\n",
              "    </tr>\n",
              "    <tr>\n",
              "      <th>track_id</th>\n",
              "      <td>0</td>\n",
              "    </tr>\n",
              "    <tr>\n",
              "      <th>popularity</th>\n",
              "      <td>0</td>\n",
              "    </tr>\n",
              "    <tr>\n",
              "      <th>acousticness</th>\n",
              "      <td>0</td>\n",
              "    </tr>\n",
              "    <tr>\n",
              "      <th>danceability</th>\n",
              "      <td>0</td>\n",
              "    </tr>\n",
              "    <tr>\n",
              "      <th>duration_ms</th>\n",
              "      <td>0</td>\n",
              "    </tr>\n",
              "    <tr>\n",
              "      <th>energy</th>\n",
              "      <td>0</td>\n",
              "    </tr>\n",
              "    <tr>\n",
              "      <th>instrumentalness</th>\n",
              "      <td>0</td>\n",
              "    </tr>\n",
              "    <tr>\n",
              "      <th>key</th>\n",
              "      <td>0</td>\n",
              "    </tr>\n",
              "    <tr>\n",
              "      <th>liveness</th>\n",
              "      <td>0</td>\n",
              "    </tr>\n",
              "    <tr>\n",
              "      <th>loudness</th>\n",
              "      <td>0</td>\n",
              "    </tr>\n",
              "    <tr>\n",
              "      <th>mode</th>\n",
              "      <td>0</td>\n",
              "    </tr>\n",
              "    <tr>\n",
              "      <th>speechiness</th>\n",
              "      <td>0</td>\n",
              "    </tr>\n",
              "    <tr>\n",
              "      <th>tempo</th>\n",
              "      <td>0</td>\n",
              "    </tr>\n",
              "    <tr>\n",
              "      <th>time_signature</th>\n",
              "      <td>0</td>\n",
              "    </tr>\n",
              "    <tr>\n",
              "      <th>valence</th>\n",
              "      <td>0</td>\n",
              "    </tr>\n",
              "  </tbody>\n",
              "</table>\n",
              "</div><br><label><b>dtype:</b> int64</label>"
            ]
          },
          "metadata": {},
          "execution_count": 10
        }
      ]
    },
    {
      "cell_type": "markdown",
      "source": [
        "**Insight:**\n",
        "\n",
        "Tidak terdapat missing value, dapat dilanjutkan untuk analissi selanjutnya"
      ],
      "metadata": {
        "id": "re4O6mipQyy0"
      }
    },
    {
      "cell_type": "markdown",
      "source": [
        "## Menangani 2 Nama Genre Music yang mirip\n",
        "\n",
        "Dilakukan analisis mengenai kedua genre music yakni Children’s Music dan Children's Music, apakah hanya terjadi duplikat atau merupakan genre yang berbeda\n",
        "\n",
        "- Kedua nama fitur berbeda, `Children’s Music` menggunakan petik melengkung dan `Children's Music`menggunakan petik biasa"
      ],
      "metadata": {
        "id": "lmrLrk87GuWa"
      }
    },
    {
      "cell_type": "markdown",
      "source": [
        "### Memeriksa isi dari kedua genre"
      ],
      "metadata": {
        "id": "NyX7wFdKzgwR"
      }
    },
    {
      "cell_type": "code",
      "source": [
        "df[df['genre'].str.contains(\"Children\", case=False, na=False)]['genre'].value_counts()"
      ],
      "metadata": {
        "colab": {
          "base_uri": "https://localhost:8080/",
          "height": 178
        },
        "id": "hdtyKNlN4OHE",
        "outputId": "8cac2547-2f4a-4b1a-cef7-0ac3b8cc872b"
      },
      "execution_count": 11,
      "outputs": [
        {
          "output_type": "execute_result",
          "data": {
            "text/plain": [
              "genre\n",
              "Children’s Music    9353\n",
              "Children's Music    5403\n",
              "Name: count, dtype: int64"
            ],
            "text/html": [
              "<div>\n",
              "<style scoped>\n",
              "    .dataframe tbody tr th:only-of-type {\n",
              "        vertical-align: middle;\n",
              "    }\n",
              "\n",
              "    .dataframe tbody tr th {\n",
              "        vertical-align: top;\n",
              "    }\n",
              "\n",
              "    .dataframe thead th {\n",
              "        text-align: right;\n",
              "    }\n",
              "</style>\n",
              "<table border=\"1\" class=\"dataframe\">\n",
              "  <thead>\n",
              "    <tr style=\"text-align: right;\">\n",
              "      <th></th>\n",
              "      <th>count</th>\n",
              "    </tr>\n",
              "    <tr>\n",
              "      <th>genre</th>\n",
              "      <th></th>\n",
              "    </tr>\n",
              "  </thead>\n",
              "  <tbody>\n",
              "    <tr>\n",
              "      <th>Children’s Music</th>\n",
              "      <td>9353</td>\n",
              "    </tr>\n",
              "    <tr>\n",
              "      <th>Children's Music</th>\n",
              "      <td>5403</td>\n",
              "    </tr>\n",
              "  </tbody>\n",
              "</table>\n",
              "</div><br><label><b>dtype:</b> int64</label>"
            ]
          },
          "metadata": {},
          "execution_count": 11
        }
      ]
    },
    {
      "cell_type": "markdown",
      "source": [
        "**Insight:**\n",
        "\n",
        "Terlihat isi dari kedua genre berbeda, mengindikasikan bukan data duplikasi"
      ],
      "metadata": {
        "id": "XQWYgLwwRMh9"
      }
    },
    {
      "cell_type": "markdown",
      "source": [
        "### Memeriksa kesamaan isi data dari track_name dan track_id"
      ],
      "metadata": {
        "id": "VSoiwXa-zk7o"
      }
    },
    {
      "cell_type": "code",
      "source": [
        "df_child1 = df[df['genre'] == \"Children’s Music\"]\n",
        "df_child2 = df[df['genre'] == \"Children's Music\"]\n",
        "\n",
        "same_tracks = pd.merge(df_child1, df_child2, on='track_name', how='inner')\n",
        "print(same_tracks[['track_name', 'artist_name_x', 'artist_name_y']])\n"
      ],
      "metadata": {
        "colab": {
          "base_uri": "https://localhost:8080/"
        },
        "id": "KosVoG9RHFjv",
        "outputId": "f6f41bf1-ebfa-44cc-c989-e035dcb33e16"
      },
      "execution_count": 12,
      "outputs": [
        {
          "output_type": "stream",
          "name": "stdout",
          "text": [
            "           track_name          artist_name_x                  artist_name_y\n",
            "0    Under The Bridge  Red Hot Chili Peppers                          Radha\n",
            "1             Honesty            Pink Sweat$         Children Songs Company\n",
            "2     All Summer Long               Kid Rock  Music For Little People Choir\n",
            "3          You And Me              Lifehouse                      Jen Gould\n",
            "4              Switch                  6LACK                    Juice Music\n",
            "..                ...                    ...                            ...\n",
            "207             Waves         Electric Guest                    Juice Music\n",
            "208           Forever               Kid Rock                The Wonder Kids\n",
            "209         Satisfied                 Aranda                The Wonder Kids\n",
            "210             Waves      Portugal. The Man                    Juice Music\n",
            "211         Goodnight      Benny The Butcher               Music with Brian\n",
            "\n",
            "[212 rows x 3 columns]\n"
          ]
        }
      ]
    },
    {
      "cell_type": "markdown",
      "source": [
        "**Insight:**\n",
        "\n",
        "Diperoleh bahwa kedua genre memiliki beberapa entri dengan judul lagu yang sama namun dinyanyikan oleh artis yang berbeda. Hal ini kemungkinan disebabkan oleh perbedaan versi lagu, seperti versi asli dan cover.\n",
        "\n",
        "Oleh karena itu, akan dilakukan generalisasi atau standarisasi nama genre untuk menjaga konsistensi data. Namun, data tidak akan dihapus karena meskipun judul lagunya sama, karena kontennya berbeda, sehingga tetap relevan untuk dianalisis secara terpisah."
      ],
      "metadata": {
        "id": "Ac1R14OIH25E"
      }
    },
    {
      "cell_type": "markdown",
      "source": [
        "### Standarisasi Nama Genre"
      ],
      "metadata": {
        "id": "uPfANZnVzpxh"
      }
    },
    {
      "cell_type": "code",
      "source": [
        "df['genre'] = df['genre'].replace({'Children’s Music': \"Children's Music\"})"
      ],
      "metadata": {
        "id": "Xwapc88745Sh"
      },
      "execution_count": 13,
      "outputs": []
    },
    {
      "cell_type": "markdown",
      "source": [
        "## Mengambil Subset Dataset Secara Acak"
      ],
      "metadata": {
        "id": "Ko078peCEdiE"
      }
    },
    {
      "cell_type": "markdown",
      "source": [
        "Karena ukuran dataset yang sangat besar membutuhkan waktu komputasi yang lama dan ruang penyimpanan yang besar, maka diputuskan untuk mengambil subset data sebanyak >= 10.000 baris.\n",
        "\n",
        "Pemilihan subset dilakukan secara acak, kecuali untuk data dengan genre yang jarang muncul, seperti `\"A Capella\"`, yang akan dipertahankan seluruhnya agar tidak hilang dari analisis. Sementara itu, data dari genre lain akan diambil secara acak hingga total data mencapai batas 10.000 baris."
      ],
      "metadata": {
        "id": "zZxCrqO9rJ9O"
      }
    },
    {
      "cell_type": "code",
      "source": [
        "genre_list = ['Children’s Music','Folk', 'Comedy', 'Jazz', 'Ska', 'Soundtrack', 'Alternative', 'Hip-Hop', 'Pop', 'World',\n",
        "              'Indie', 'Anime', 'Rap', 'Electronic', 'Classical', 'Reggaeton', 'Rock', 'Reggae',\n",
        "              'Country', 'Soul', 'Blues', 'Opera', 'R&B', 'Movie', 'Dance']\n",
        "\n",
        "df_sampled = df[df['genre'].isin(genre_list)].sample(10000, random_state=42)\n",
        "\n",
        "df_extra = df[df['genre'].isin([\"A Capella\"])]\n",
        "\n",
        "df_new = pd.concat([df_sampled, df_extra], ignore_index=True)"
      ],
      "metadata": {
        "id": "sdBX71x-8VOH"
      },
      "execution_count": 14,
      "outputs": []
    },
    {
      "cell_type": "code",
      "source": [
        "def CountAndPlot(df, feature):\n",
        "  count = df_new[feature].value_counts()\n",
        "  percent = 100*df[feature].value_counts(normalize=True)\n",
        "  samples = pd.DataFrame({'Sample Count':count, 'Percentage':percent.round(1)})\n",
        "  print(samples)\n",
        "  count.plot(kind='bar', title=feature)"
      ],
      "metadata": {
        "id": "nO1UYnbk9Uca"
      },
      "execution_count": 15,
      "outputs": []
    },
    {
      "cell_type": "code",
      "source": [
        "CountAndPlot(df_new, 'genre')"
      ],
      "metadata": {
        "colab": {
          "base_uri": "https://localhost:8080/",
          "height": 1000
        },
        "id": "whFiLyx_9Yeh",
        "outputId": "cd76fda6-6721-4752-daa3-a9276f4ed4a2"
      },
      "execution_count": 16,
      "outputs": [
        {
          "output_type": "stream",
          "name": "stdout",
          "text": [
            "             Sample Count  Percentage\n",
            "genre                                \n",
            "Comedy                452         4.5\n",
            "Indie                 452         4.5\n",
            "Soundtrack            449         4.4\n",
            "Pop                   445         4.4\n",
            "Folk                  444         4.4\n",
            "Jazz                  436         4.3\n",
            "Reggae                430         4.2\n",
            "Rap                   430         4.2\n",
            "Anime                 428         4.2\n",
            "Electronic            420         4.2\n",
            "Alternative           418         4.1\n",
            "Ska                   418         4.1\n",
            "Rock                  417         4.1\n",
            "R&B                   412         4.1\n",
            "Classical             410         4.1\n",
            "Hip-Hop               409         4.0\n",
            "Soul                  404         4.0\n",
            "Country               403         4.0\n",
            "Dance                 399         3.9\n",
            "Reggaeton             398         3.9\n",
            "Blues                 395         3.9\n",
            "World                 395         3.9\n",
            "Opera                 375         3.7\n",
            "Movie                 361         3.6\n",
            "A Capella             119         1.2\n"
          ]
        },
        {
          "output_type": "display_data",
          "data": {
            "text/plain": [
              "<Figure size 640x480 with 1 Axes>"
            ],
            "image/png": "[encoded data removed]"
          },
          "metadata": {}
        }
      ]
    },
    {
      "cell_type": "markdown",
      "source": [
        "**Insight:**\n",
        "\n",
        "Diperoleh bahwa genre `\"A Capella\"` merupakan genre dengan data yang tersedikit, namun hal ini tetap akan dipertahankan untuk memberikan variasi pada genre"
      ],
      "metadata": {
        "id": "GVLf8FmvRpKv"
      }
    },
    {
      "cell_type": "markdown",
      "source": [
        "## Mengambil fitur yang relevan\n",
        "\n"
      ],
      "metadata": {
        "id": "wbNio2zwv97J"
      }
    },
    {
      "cell_type": "markdown",
      "source": [
        "Dataset memiliki total 18 fitur, namun tidak semuanya digunakan dalam proses pembuatan sistem rekomendasi. Pada proyek ini, sistem rekomendasi dikembangkan tidak hanya berdasarkan kemiripan 'Penyanyi' dan 'Judul Lagu', tetapi juga mempertimbangkan atribut-atribut audio dari setiap lagu.\n",
        "\n",
        "Fitur-fitur yang dipilih mencakup:  \n",
        "- `track_id`, `artist_name`, `track_name`, `genre`,  \n",
        "- serta fitur audio seperti `acousticness`, `danceability`, `energy`, `instrumentalness`, `loudness`, `speechiness`, `tempo`, dan `valence`.\n",
        "\n",
        "Pemilihan fitur ini bertujuan untuk menghasilkan rekomendasi lagu yang lebih relevan secara musikalitas dan karakteristik audio, bukan sekadar berdasarkan kemiripan teks atau artis."
      ],
      "metadata": {
        "id": "Un33SO-7S4v1"
      }
    },
    {
      "cell_type": "code",
      "source": [
        "features = [\n",
        "    'track_id','artist_name','track_name','genre','acousticness', 'danceability', 'energy', 'instrumentalness', 'loudness', 'speechiness', 'tempo', 'valence']\n",
        "\n",
        "data = df_new[features]"
      ],
      "metadata": {
        "id": "H3wsr5nTwLg9"
      },
      "execution_count": 17,
      "outputs": []
    },
    {
      "cell_type": "code",
      "source": [
        "audio_features = ['acousticness', 'danceability', 'energy', 'instrumentalness', 'loudness', 'speechiness', 'tempo', 'valence']"
      ],
      "metadata": {
        "id": "XDJcs6c_Egbb"
      },
      "execution_count": 18,
      "outputs": []
    },
    {
      "cell_type": "code",
      "source": [
        "data.info()"
      ],
      "metadata": {
        "colab": {
          "base_uri": "https://localhost:8080/"
        },
        "id": "eFWNZUh5DRWg",
        "outputId": "cbaf9a47-c388-4562-ea51-4bcadf01f9e9"
      },
      "execution_count": 19,
      "outputs": [
        {
          "output_type": "stream",
          "name": "stdout",
          "text": [
            "<class 'pandas.core.frame.DataFrame'>\n",
            "RangeIndex: 10119 entries, 0 to 10118\n",
            "Data columns (total 12 columns):\n",
            " #   Column            Non-Null Count  Dtype  \n",
            "---  ------            --------------  -----  \n",
            " 0   track_id          10119 non-null  object \n",
            " 1   artist_name       10119 non-null  object \n",
            " 2   track_name        10119 non-null  object \n",
            " 3   genre             10119 non-null  object \n",
            " 4   acousticness      10119 non-null  float64\n",
            " 5   danceability      10119 non-null  float64\n",
            " 6   energy            10119 non-null  float64\n",
            " 7   instrumentalness  10119 non-null  float64\n",
            " 8   loudness          10119 non-null  float64\n",
            " 9   speechiness       10119 non-null  float64\n",
            " 10  tempo             10119 non-null  float64\n",
            " 11  valence           10119 non-null  float64\n",
            "dtypes: float64(8), object(4)\n",
            "memory usage: 948.8+ KB\n"
          ]
        }
      ]
    },
    {
      "cell_type": "code",
      "source": [
        "data.describe()"
      ],
      "metadata": {
        "colab": {
          "base_uri": "https://localhost:8080/",
          "height": 300
        },
        "id": "KZyCaAKg9YG3",
        "outputId": "25d331ff-cef5-4885-f3fd-fae77a10cd26"
      },
      "execution_count": 20,
      "outputs": [
        {
          "output_type": "execute_result",
          "data": {
            "text/plain": [
              "       acousticness  danceability        energy  instrumentalness  \\\n",
              "count  10119.000000  10119.000000  10119.000000      10119.000000   \n",
              "mean       0.378677      0.550167      0.565209          0.149067   \n",
              "std        0.358894      0.184795      0.267095          0.305322   \n",
              "min        0.000001      0.060500      0.000259          0.000000   \n",
              "25%        0.041450      0.432000      0.374500          0.000000   \n",
              "50%        0.241000      0.569000      0.595000          0.000047   \n",
              "75%        0.751000      0.688000      0.787000          0.032900   \n",
              "max        0.996000      0.980000      0.999000          0.989000   \n",
              "\n",
              "           loudness   speechiness         tempo       valence  \n",
              "count  10119.000000  10119.000000  10119.000000  10119.000000  \n",
              "mean      -9.715239      0.120388    117.401576      0.450149  \n",
              "std        6.138400      0.187109     30.783877      0.260773  \n",
              "min      -46.507000      0.022900     35.341000      0.000000  \n",
              "25%      -11.978500      0.036500     92.474000      0.229500  \n",
              "50%       -7.814000      0.050100    115.499000      0.441000  \n",
              "75%       -5.518000      0.103000    139.043500      0.652000  \n",
              "max        1.342000      0.964000    232.602000      0.989000  "
            ],
            "text/html": [
              "\n",
              "  <div id=\"df-10640c08-667a-4f04-a199-8971ad777408\" class=\"colab-df-container\">\n",
              "    <div>\n",
              "<style scoped>\n",
              "    .dataframe tbody tr th:only-of-type {\n",
              "        vertical-align: middle;\n",
              "    }\n",
              "\n",
              "    .dataframe tbody tr th {\n",
              "        vertical-align: top;\n",
              "    }\n",
              "\n",
              "    .dataframe thead th {\n",
              "        text-align: right;\n",
              "    }\n",
              "</style>\n",
              "<table border=\"1\" class=\"dataframe\">\n",
              "  <thead>\n",
              "    <tr style=\"text-align: right;\">\n",
              "      <th></th>\n",
              "      <th>acousticness</th>\n",
              "      <th>danceability</th>\n",
              "      <th>energy</th>\n",
              "      <th>instrumentalness</th>\n",
              "      <th>loudness</th>\n",
              "      <th>speechiness</th>\n",
              "      <th>tempo</th>\n",
              "      <th>valence</th>\n",
              "    </tr>\n",
              "  </thead>\n",
              "  <tbody>\n",
              "    <tr>\n",
              "      <th>count</th>\n",
              "      <td>10119.000000</td>\n",
              "      <td>10119.000000</td>\n",
              "      <td>10119.000000</td>\n",
              "      <td>10119.000000</td>\n",
              "      <td>10119.000000</td>\n",
              "      <td>10119.000000</td>\n",
              "      <td>10119.000000</td>\n",
              "      <td>10119.000000</td>\n",
              "    </tr>\n",
              "    <tr>\n",
              "      <th>mean</th>\n",
              "      <td>0.378677</td>\n",
              "      <td>0.550167</td>\n",
              "      <td>0.565209</td>\n",
              "      <td>0.149067</td>\n",
              "      <td>-9.715239</td>\n",
              "      <td>0.120388</td>\n",
              "      <td>117.401576</td>\n",
              "      <td>0.450149</td>\n",
              "    </tr>\n",
              "    <tr>\n",
              "      <th>std</th>\n",
              "      <td>0.358894</td>\n",
              "      <td>0.184795</td>\n",
              "      <td>0.267095</td>\n",
              "      <td>0.305322</td>\n",
              "      <td>6.138400</td>\n",
              "      <td>0.187109</td>\n",
              "      <td>30.783877</td>\n",
              "      <td>0.260773</td>\n",
              "    </tr>\n",
              "    <tr>\n",
              "      <th>min</th>\n",
              "      <td>0.000001</td>\n",
              "      <td>0.060500</td>\n",
              "      <td>0.000259</td>\n",
              "      <td>0.000000</td>\n",
              "      <td>-46.507000</td>\n",
              "      <td>0.022900</td>\n",
              "      <td>35.341000</td>\n",
              "      <td>0.000000</td>\n",
              "    </tr>\n",
              "    <tr>\n",
              "      <th>25%</th>\n",
              "      <td>0.041450</td>\n",
              "      <td>0.432000</td>\n",
              "      <td>0.374500</td>\n",
              "      <td>0.000000</td>\n",
              "      <td>-11.978500</td>\n",
              "      <td>0.036500</td>\n",
              "      <td>92.474000</td>\n",
              "      <td>0.229500</td>\n",
              "    </tr>\n",
              "    <tr>\n",
              "      <th>50%</th>\n",
              "      <td>0.241000</td>\n",
              "      <td>0.569000</td>\n",
              "      <td>0.595000</td>\n",
              "      <td>0.000047</td>\n",
              "      <td>-7.814000</td>\n",
              "      <td>0.050100</td>\n",
              "      <td>115.499000</td>\n",
              "      <td>0.441000</td>\n",
              "    </tr>\n",
              "    <tr>\n",
              "      <th>75%</th>\n",
              "      <td>0.751000</td>\n",
              "      <td>0.688000</td>\n",
              "      <td>0.787000</td>\n",
              "      <td>0.032900</td>\n",
              "      <td>-5.518000</td>\n",
              "      <td>0.103000</td>\n",
              "      <td>139.043500</td>\n",
              "      <td>0.652000</td>\n",
              "    </tr>\n",
              "    <tr>\n",
              "      <th>max</th>\n",
              "      <td>0.996000</td>\n",
              "      <td>0.980000</td>\n",
              "      <td>0.999000</td>\n",
              "      <td>0.989000</td>\n",
              "      <td>1.342000</td>\n",
              "      <td>0.964000</td>\n",
              "      <td>232.602000</td>\n",
              "      <td>0.989000</td>\n",
              "    </tr>\n",
              "  </tbody>\n",
              "</table>\n",
              "</div>\n",
              "    <div class=\"colab-df-buttons\">\n",
              "\n",
              "  <div class=\"colab-df-container\">\n",
              "    <button class=\"colab-df-convert\" onclick=\"convertToInteractive('df-10640c08-667a-4f04-a199-8971ad777408')\"\n",
              "            title=\"Convert this dataframe to an interactive table.\"\n",
              "            style=\"display:none;\">\n",
              "\n",
              "  <svg xmlns=\"http://www.w3.org/2000/svg\" height=\"24px\" viewBox=\"0 -960 960 960\">\n",
              "    <path d=\"M120-120v-720h720v720H120Zm60-500h600v-160H180v160Zm220 220h160v-160H400v160Zm0 220h160v-160H400v160ZM180-400h160v-160H180v160Zm440 0h160v-160H620v160ZM180-180h160v-160H180v160Zm440 0h160v-160H620v160Z\"/>\n",
              "  </svg>\n",
              "    </button>\n",
              "\n",
              "  <style>\n",
              "    .colab-df-container {\n",
              "      display:flex;\n",
              "      gap: 12px;\n",
              "    }\n",
              "\n",
              "    .colab-df-convert {\n",
              "      background-color: #E8F0FE;\n",
              "      border: none;\n",
              "      border-radius: 50%;\n",
              "      cursor: pointer;\n",
              "      display: none;\n",
              "      fill: #1967D2;\n",
              "      height: 32px;\n",
              "      padding: 0 0 0 0;\n",
              "      width: 32px;\n",
              "    }\n",
              "\n",
              "    .colab-df-convert:hover {\n",
              "      background-color: #E2EBFA;\n",
              "      box-shadow: 0px 1px 2px rgba(60, 64, 67, 0.3), 0px 1px 3px 1px rgba(60, 64, 67, 0.15);\n",
              "      fill: #174EA6;\n",
              "    }\n",
              "\n",
              "    .colab-df-buttons div {\n",
              "      margin-bottom: 4px;\n",
              "    }\n",
              "\n",
              "    [theme=dark] .colab-df-convert {\n",
              "      background-color: #3B4455;\n",
              "      fill: #D2E3FC;\n",
              "    }\n",
              "\n",
              "    [theme=dark] .colab-df-convert:hover {\n",
              "      background-color: #434B5C;\n",
              "      box-shadow: 0px 1px 3px 1px rgba(0, 0, 0, 0.15);\n",
              "      filter: drop-shadow(0px 1px 2px rgba(0, 0, 0, 0.3));\n",
              "      fill: #FFFFFF;\n",
              "    }\n",
              "  </style>\n",
              "\n",
              "    <script>\n",
              "      const buttonEl =\n",
              "        document.querySelector('#df-10640c08-667a-4f04-a199-8971ad777408 button.colab-df-convert');\n",
              "      buttonEl.style.display =\n",
              "        google.colab.kernel.accessAllowed ? 'block' : 'none';\n",
              "\n",
              "      async function convertToInteractive(key) {\n",
              "        const element = document.querySelector('#df-10640c08-667a-4f04-a199-8971ad777408');\n",
              "        const dataTable =\n",
              "          await google.colab.kernel.invokeFunction('convertToInteractive',\n",
              "                                                    [key], {});\n",
              "        if (!dataTable) return;\n",
              "\n",
              "        const docLinkHtml = 'Like what you see? Visit the ' +\n",
              "          '<a target=\"_blank\" href=https://colab.research.google.com/notebooks/data_table.ipynb>data table notebook</a>'\n",
              "          + ' to learn more about interactive tables.';\n",
              "        element.innerHTML = '';\n",
              "        dataTable['output_type'] = 'display_data';\n",
              "        await google.colab.output.renderOutput(dataTable, element);\n",
              "        const docLink = document.createElement('div');\n",
              "        docLink.innerHTML = docLinkHtml;\n",
              "        element.appendChild(docLink);\n",
              "      }\n",
              "    </script>\n",
              "  </div>\n",
              "\n",
              "\n",
              "    <div id=\"df-a977307d-e996-4b86-8260-d95408cd4cf4\">\n",
              "      <button class=\"colab-df-quickchart\" onclick=\"quickchart('df-a977307d-e996-4b86-8260-d95408cd4cf4')\"\n",
              "                title=\"Suggest charts\"\n",
              "                style=\"display:none;\">\n",
              "\n",
              "<svg xmlns=\"http://www.w3.org/2000/svg\" height=\"24px\"viewBox=\"0 0 24 24\"\n",
              "     width=\"24px\">\n",
              "    <g>\n",
              "        <path d=\"M19 3H5c-1.1 0-2 .9-2 2v14c0 1.1.9 2 2 2h14c1.1 0 2-.9 2-2V5c0-1.1-.9-2-2-2zM9 17H7v-7h2v7zm4 0h-2V7h2v10zm4 0h-2v-4h2v4z\"/>\n",
              "    </g>\n",
              "</svg>\n",
              "      </button>\n",
              "\n",
              "<style>\n",
              "  .colab-df-quickchart {\n",
              "      --bg-color: #E8F0FE;\n",
              "      --fill-color: #1967D2;\n",
              "      --hover-bg-color: #E2EBFA;\n",
              "      --hover-fill-color: #174EA6;\n",
              "      --disabled-fill-color: #AAA;\n",
              "      --disabled-bg-color: #DDD;\n",
              "  }\n",
              "\n",
              "  [theme=dark] .colab-df-quickchart {\n",
              "      --bg-color: #3B4455;\n",
              "      --fill-color: #D2E3FC;\n",
              "      --hover-bg-color: #434B5C;\n",
              "      --hover-fill-color: #FFFFFF;\n",
              "      --disabled-bg-color: #3B4455;\n",
              "      --disabled-fill-color: #666;\n",
              "  }\n",
              "\n",
              "  .colab-df-quickchart {\n",
              "    background-color: var(--bg-color);\n",
              "    border: none;\n",
              "    border-radius: 50%;\n",
              "    cursor: pointer;\n",
              "    display: none;\n",
              "    fill: var(--fill-color);\n",
              "    height: 32px;\n",
              "    padding: 0;\n",
              "    width: 32px;\n",
              "  }\n",
              "\n",
              "  .colab-df-quickchart:hover {\n",
              "    background-color: var(--hover-bg-color);\n",
              "    box-shadow: 0 1px 2px rgba(60, 64, 67, 0.3), 0 1px 3px 1px rgba(60, 64, 67, 0.15);\n",
              "    fill: var(--button-hover-fill-color);\n",
              "  }\n",
              "\n",
              "  .colab-df-quickchart-complete:disabled,\n",
              "  .colab-df-quickchart-complete:disabled:hover {\n",
              "    background-color: var(--disabled-bg-color);\n",
              "    fill: var(--disabled-fill-color);\n",
              "    box-shadow: none;\n",
              "  }\n",
              "\n",
              "  .colab-df-spinner {\n",
              "    border: 2px solid var(--fill-color);\n",
              "    border-color: transparent;\n",
              "    border-bottom-color: var(--fill-color);\n",
              "    animation:\n",
              "      spin 1s steps(1) infinite;\n",
              "  }\n",
              "\n",
              "  @keyframes spin {\n",
              "    0% {\n",
              "      border-color: transparent;\n",
              "      border-bottom-color: var(--fill-color);\n",
              "      border-left-color: var(--fill-color);\n",
              "    }\n",
              "    20% {\n",
              "      border-color: transparent;\n",
              "      border-left-color: var(--fill-color);\n",
              "      border-top-color: var(--fill-color);\n",
              "    }\n",
              "    30% {\n",
              "      border-color: transparent;\n",
              "      border-left-color: var(--fill-color);\n",
              "      border-top-color: var(--fill-color);\n",
              "      border-right-color: var(--fill-color);\n",
              "    }\n",
              "    40% {\n",
              "      border-color: transparent;\n",
              "      border-right-color: var(--fill-color);\n",
              "      border-top-color: var(--fill-color);\n",
              "    }\n",
              "    60% {\n",
              "      border-color: transparent;\n",
              "      border-right-color: var(--fill-color);\n",
              "    }\n",
              "    80% {\n",
              "      border-color: transparent;\n",
              "      border-right-color: var(--fill-color);\n",
              "      border-bottom-color: var(--fill-color);\n",
              "    }\n",
              "    90% {\n",
              "      border-color: transparent;\n",
              "      border-bottom-color: var(--fill-color);\n",
              "    }\n",
              "  }\n",
              "</style>\n",
              "\n",
              "      <script>\n",
              "        async function quickchart(key) {\n",
              "          const quickchartButtonEl =\n",
              "            document.querySelector('#' + key + ' button');\n",
              "          quickchartButtonEl.disabled = true;  // To prevent multiple clicks.\n",
              "          quickchartButtonEl.classList.add('colab-df-spinner');\n",
              "          try {\n",
              "            const charts = await google.colab.kernel.invokeFunction(\n",
              "                'suggestCharts', [key], {});\n",
              "          } catch (error) {\n",
              "            console.error('Error during call to suggestCharts:', error);\n",
              "          }\n",
              "          quickchartButtonEl.classList.remove('colab-df-spinner');\n",
              "          quickchartButtonEl.classList.add('colab-df-quickchart-complete');\n",
              "        }\n",
              "        (() => {\n",
              "          let quickchartButtonEl =\n",
              "            document.querySelector('#df-a977307d-e996-4b86-8260-d95408cd4cf4 button');\n",
              "          quickchartButtonEl.style.display =\n",
              "            google.colab.kernel.accessAllowed ? 'block' : 'none';\n",
              "        })();\n",
              "      </script>\n",
              "    </div>\n",
              "\n",
              "    </div>\n",
              "  </div>\n"
            ],
            "application/vnd.google.colaboratory.intrinsic+json": {
              "type": "dataframe",
              "summary": "{\n  \"name\": \"data\",\n  \"rows\": 8,\n  \"fields\": [\n    {\n      \"column\": \"acousticness\",\n      \"properties\": {\n        \"dtype\": \"number\",\n        \"std\": 3577.4670195658855,\n        \"min\": 1.02e-06,\n        \"max\": 10119.0,\n        \"num_unique_values\": 8,\n        \"samples\": [\n          0.37867696718153965,\n          0.241,\n          10119.0\n        ],\n        \"semantic_type\": \"\",\n        \"description\": \"\"\n      }\n    },\n    {\n      \"column\": \"danceability\",\n      \"properties\": {\n        \"dtype\": \"number\",\n        \"std\": 3577.4317890091056,\n        \"min\": 0.0605,\n        \"max\": 10119.0,\n        \"num_unique_values\": 8,\n        \"samples\": [\n          0.5501671014922422,\n          0.569,\n          10119.0\n        ],\n        \"semantic_type\": \"\",\n        \"description\": \"\"\n      }\n    },\n    {\n      \"column\": \"energy\",\n      \"properties\": {\n        \"dtype\": \"number\",\n        \"std\": 3577.425548117532,\n        \"min\": 0.000259,\n        \"max\": 10119.0,\n        \"num_unique_values\": 8,\n        \"samples\": [\n          0.5652085216918667,\n          0.595,\n          10119.0\n        ],\n        \"semantic_type\": \"\",\n        \"description\": \"\"\n      }\n    },\n    {\n      \"column\": \"instrumentalness\",\n      \"properties\": {\n        \"dtype\": \"number\",\n        \"std\": 3577.532208832723,\n        \"min\": 0.0,\n        \"max\": 10119.0,\n        \"num_unique_values\": 7,\n        \"samples\": [\n          10119.0,\n          0.1490667191738314,\n          0.0329\n        ],\n        \"semantic_type\": \"\",\n        \"description\": \"\"\n      }\n    },\n    {\n      \"column\": \"loudness\",\n      \"properties\": {\n        \"dtype\": \"number\",\n        \"std\": 3581.381837633528,\n        \"min\": -46.507,\n        \"max\": 10119.0,\n        \"num_unique_values\": 8,\n        \"samples\": [\n          -9.715238561122641,\n          -7.814,\n          10119.0\n        ],\n        \"semantic_type\": \"\",\n        \"description\": \"\"\n      }\n    },\n    {\n      \"column\": \"speechiness\",\n      \"properties\": {\n        \"dtype\": \"number\",\n        \"std\": 3577.531819826454,\n        \"min\": 0.0229,\n        \"max\": 10119.0,\n        \"num_unique_values\": 8,\n        \"samples\": [\n          0.12038788417827848,\n          0.0501,\n          10119.0\n        ],\n        \"semantic_type\": \"\",\n        \"description\": \"\"\n      }\n    },\n    {\n      \"column\": \"tempo\",\n      \"properties\": {\n        \"dtype\": \"number\",\n        \"std\": 3539.629402744071,\n        \"min\": 30.783877225611175,\n        \"max\": 10119.0,\n        \"num_unique_values\": 8,\n        \"samples\": [\n          117.40157564976776,\n          115.499,\n          10119.0\n        ],\n        \"semantic_type\": \"\",\n        \"description\": \"\"\n      }\n    },\n    {\n      \"column\": \"valence\",\n      \"properties\": {\n        \"dtype\": \"number\",\n        \"std\": 3577.4541163262456,\n        \"min\": 0.0,\n        \"max\": 10119.0,\n        \"num_unique_values\": 8,\n        \"samples\": [\n          0.45014942187963236,\n          0.441,\n          10119.0\n        ],\n        \"semantic_type\": \"\",\n        \"description\": \"\"\n      }\n    }\n  ]\n}"
            }
          },
          "metadata": {},
          "execution_count": 20
        }
      ]
    },
    {
      "cell_type": "markdown",
      "source": [
        "**Insight:**\n",
        "\n",
        "Dari hasil visualisasi dan eksplorasi data, ditemukan bahwa fitur `loudness` dan `tempo` memiliki skala dan distribusi nilai yang berbeda dibandingkan fitur lainnya. Perbedaan skala ini dapat menyebabkan bias dalam perhitungan kemiripan (cosine similarity), yakni fitur dengan skala besar akan memiliki pengaruh yang lebih besar.\n",
        "\n",
        "Untuk mengatasi hal ini, diperlukan proses normalisasi atau standarisasi agar seluruh fitur berada dalam skala yang seragam. Dengan demikian, semua fitur dapat memberikan kontribusi yang seimbang dalam proses rekomendasi."
      ],
      "metadata": {
        "id": "NGd3qp86TbwM"
      }
    },
    {
      "cell_type": "markdown",
      "source": [
        "**Kesimpulan Akhir dari Proses Data Preprocessing**\n",
        "\n",
        "Dataset telah dibersihkan dari missing value, nama genre yang mirip, dan telah mensortir fitur yang relevan digunakan dan telah disimpan dalam variabel `data`\n",
        "\n"
      ],
      "metadata": {
        "id": "jxvdY1Iv_kwT"
      }
    },
    {
      "cell_type": "markdown",
      "source": [
        "# Data Preparation"
      ],
      "metadata": {
        "id": "FoQBbYErBcvn"
      }
    },
    {
      "cell_type": "markdown",
      "source": [
        "Pada tahap selanjutnya dilakukan normalisasi nilai fitur audio dengan MinmAxScaler, membuat kombinasi nama, TF-IDF vektorizer dan penggabungan"
      ],
      "metadata": {
        "id": "DRpmGr35BNmA"
      }
    },
    {
      "cell_type": "markdown",
      "source": [
        "## Normalisasi Fitur Audio\n",
        "\n"
      ],
      "metadata": {
        "id": "cEwojFfhTRTA"
      }
    },
    {
      "cell_type": "markdown",
      "source": [
        "Dalam proyek ini digunakan metode **MinMaxScaler** untuk mengubah semua nilai fitur ke dalam rentang [0, 1], sehingga tidak ada fitur yang mendominasi perhitungan kemiripan.\n"
      ],
      "metadata": {
        "id": "BsJd1dQtUUkq"
      }
    },
    {
      "cell_type": "code",
      "source": [
        "scaler = MinMaxScaler()\n",
        "scaled_audio = scaler.fit_transform(data[audio_features])\n",
        "data[audio_features] = scaler.fit_transform(data[audio_features])"
      ],
      "metadata": {
        "colab": {
          "base_uri": "https://localhost:8080/"
        },
        "id": "PxYC2etyTQih",
        "outputId": "31f95268-1c68-40c2-e691-3743da6453b4"
      },
      "execution_count": 21,
      "outputs": [
        {
          "output_type": "stream",
          "name": "stderr",
          "text": [
            "<ipython-input-21-65208dce6c2d>:3: SettingWithCopyWarning: \n",
            "A value is trying to be set on a copy of a slice from a DataFrame.\n",
            "Try using .loc[row_indexer,col_indexer] = value instead\n",
            "\n",
            "See the caveats in the documentation: https://pandas.pydata.org/pandas-docs/stable/user_guide/indexing.html#returning-a-view-versus-a-copy\n",
            "  data[audio_features] = scaler.fit_transform(data[audio_features])\n"
          ]
        }
      ]
    },
    {
      "cell_type": "code",
      "source": [
        "data.describe()"
      ],
      "metadata": {
        "colab": {
          "base_uri": "https://localhost:8080/",
          "height": 300
        },
        "id": "-0j03NnLB6NA",
        "outputId": "703f00d7-e01a-4687-d41c-72aa461be673"
      },
      "execution_count": 22,
      "outputs": [
        {
          "output_type": "execute_result",
          "data": {
            "text/plain": [
              "       acousticness  danceability        energy  instrumentalness  \\\n",
              "count  10119.000000  10119.000000  10119.000000      10119.000000   \n",
              "mean       0.380197      0.532536      0.565662          0.150725   \n",
              "std        0.360336      0.200974      0.267432          0.308718   \n",
              "min        0.000000      0.000000      0.000000          0.000000   \n",
              "25%        0.041615      0.404024      0.374713          0.000000   \n",
              "50%        0.241967      0.553018      0.595491          0.000047   \n",
              "75%        0.754016      0.682436      0.787733          0.033266   \n",
              "max        1.000000      1.000000      1.000000          1.000000   \n",
              "\n",
              "           loudness   speechiness         tempo       valence  \n",
              "count  10119.000000  10119.000000  10119.000000  10119.000000  \n",
              "mean       0.768914      0.103589      0.416000      0.455156  \n",
              "std        0.128287      0.198819      0.156057      0.263673  \n",
              "min        0.000000      0.000000      0.000000      0.000000  \n",
              "25%        0.721614      0.014451      0.289632      0.232053  \n",
              "50%        0.808648      0.028902      0.406355      0.445905  \n",
              "75%        0.856632      0.085113      0.525712      0.659252  \n",
              "max        1.000000      1.000000      1.000000      1.000000  "
            ],
            "text/html": [
              "\n",
              "  <div id=\"df-ca0eea09-b976-439f-a5c3-feaacb040c25\" class=\"colab-df-container\">\n",
              "    <div>\n",
              "<style scoped>\n",
              "    .dataframe tbody tr th:only-of-type {\n",
              "        vertical-align: middle;\n",
              "    }\n",
              "\n",
              "    .dataframe tbody tr th {\n",
              "        vertical-align: top;\n",
              "    }\n",
              "\n",
              "    .dataframe thead th {\n",
              "        text-align: right;\n",
              "    }\n",
              "</style>\n",
              "<table border=\"1\" class=\"dataframe\">\n",
              "  <thead>\n",
              "    <tr style=\"text-align: right;\">\n",
              "      <th></th>\n",
              "      <th>acousticness</th>\n",
              "      <th>danceability</th>\n",
              "      <th>energy</th>\n",
              "      <th>instrumentalness</th>\n",
              "      <th>loudness</th>\n",
              "      <th>speechiness</th>\n",
              "      <th>tempo</th>\n",
              "      <th>valence</th>\n",
              "    </tr>\n",
              "  </thead>\n",
              "  <tbody>\n",
              "    <tr>\n",
              "      <th>count</th>\n",
              "      <td>10119.000000</td>\n",
              "      <td>10119.000000</td>\n",
              "      <td>10119.000000</td>\n",
              "      <td>10119.000000</td>\n",
              "      <td>10119.000000</td>\n",
              "      <td>10119.000000</td>\n",
              "      <td>10119.000000</td>\n",
              "      <td>10119.000000</td>\n",
              "    </tr>\n",
              "    <tr>\n",
              "      <th>mean</th>\n",
              "      <td>0.380197</td>\n",
              "      <td>0.532536</td>\n",
              "      <td>0.565662</td>\n",
              "      <td>0.150725</td>\n",
              "      <td>0.768914</td>\n",
              "      <td>0.103589</td>\n",
              "      <td>0.416000</td>\n",
              "      <td>0.455156</td>\n",
              "    </tr>\n",
              "    <tr>\n",
              "      <th>std</th>\n",
              "      <td>0.360336</td>\n",
              "      <td>0.200974</td>\n",
              "      <td>0.267432</td>\n",
              "      <td>0.308718</td>\n",
              "      <td>0.128287</td>\n",
              "      <td>0.198819</td>\n",
              "      <td>0.156057</td>\n",
              "      <td>0.263673</td>\n",
              "    </tr>\n",
              "    <tr>\n",
              "      <th>min</th>\n",
              "      <td>0.000000</td>\n",
              "      <td>0.000000</td>\n",
              "      <td>0.000000</td>\n",
              "      <td>0.000000</td>\n",
              "      <td>0.000000</td>\n",
              "      <td>0.000000</td>\n",
              "      <td>0.000000</td>\n",
              "      <td>0.000000</td>\n",
              "    </tr>\n",
              "    <tr>\n",
              "      <th>25%</th>\n",
              "      <td>0.041615</td>\n",
              "      <td>0.404024</td>\n",
              "      <td>0.374713</td>\n",
              "      <td>0.000000</td>\n",
              "      <td>0.721614</td>\n",
              "      <td>0.014451</td>\n",
              "      <td>0.289632</td>\n",
              "      <td>0.232053</td>\n",
              "    </tr>\n",
              "    <tr>\n",
              "      <th>50%</th>\n",
              "      <td>0.241967</td>\n",
              "      <td>0.553018</td>\n",
              "      <td>0.595491</td>\n",
              "      <td>0.000047</td>\n",
              "      <td>0.808648</td>\n",
              "      <td>0.028902</td>\n",
              "      <td>0.406355</td>\n",
              "      <td>0.445905</td>\n",
              "    </tr>\n",
              "    <tr>\n",
              "      <th>75%</th>\n",
              "      <td>0.754016</td>\n",
              "      <td>0.682436</td>\n",
              "      <td>0.787733</td>\n",
              "      <td>0.033266</td>\n",
              "      <td>0.856632</td>\n",
              "      <td>0.085113</td>\n",
              "      <td>0.525712</td>\n",
              "      <td>0.659252</td>\n",
              "    </tr>\n",
              "    <tr>\n",
              "      <th>max</th>\n",
              "      <td>1.000000</td>\n",
              "      <td>1.000000</td>\n",
              "      <td>1.000000</td>\n",
              "      <td>1.000000</td>\n",
              "      <td>1.000000</td>\n",
              "      <td>1.000000</td>\n",
              "      <td>1.000000</td>\n",
              "      <td>1.000000</td>\n",
              "    </tr>\n",
              "  </tbody>\n",
              "</table>\n",
              "</div>\n",
              "    <div class=\"colab-df-buttons\">\n",
              "\n",
              "  <div class=\"colab-df-container\">\n",
              "    <button class=\"colab-df-convert\" onclick=\"convertToInteractive('df-ca0eea09-b976-439f-a5c3-feaacb040c25')\"\n",
              "            title=\"Convert this dataframe to an interactive table.\"\n",
              "            style=\"display:none;\">\n",
              "\n",
              "  <svg xmlns=\"http://www.w3.org/2000/svg\" height=\"24px\" viewBox=\"0 -960 960 960\">\n",
              "    <path d=\"M120-120v-720h720v720H120Zm60-500h600v-160H180v160Zm220 220h160v-160H400v160Zm0 220h160v-160H400v160ZM180-400h160v-160H180v160Zm440 0h160v-160H620v160ZM180-180h160v-160H180v160Zm440 0h160v-160H620v160Z\"/>\n",
              "  </svg>\n",
              "    </button>\n",
              "\n",
              "  <style>\n",
              "    .colab-df-container {\n",
              "      display:flex;\n",
              "      gap: 12px;\n",
              "    }\n",
              "\n",
              "    .colab-df-convert {\n",
              "      background-color: #E8F0FE;\n",
              "      border: none;\n",
              "      border-radius: 50%;\n",
              "      cursor: pointer;\n",
              "      display: none;\n",
              "      fill: #1967D2;\n",
              "      height: 32px;\n",
              "      padding: 0 0 0 0;\n",
              "      width: 32px;\n",
              "    }\n",
              "\n",
              "    .colab-df-convert:hover {\n",
              "      background-color: #E2EBFA;\n",
              "      box-shadow: 0px 1px 2px rgba(60, 64, 67, 0.3), 0px 1px 3px 1px rgba(60, 64, 67, 0.15);\n",
              "      fill: #174EA6;\n",
              "    }\n",
              "\n",
              "    .colab-df-buttons div {\n",
              "      margin-bottom: 4px;\n",
              "    }\n",
              "\n",
              "    [theme=dark] .colab-df-convert {\n",
              "      background-color: #3B4455;\n",
              "      fill: #D2E3FC;\n",
              "    }\n",
              "\n",
              "    [theme=dark] .colab-df-convert:hover {\n",
              "      background-color: #434B5C;\n",
              "      box-shadow: 0px 1px 3px 1px rgba(0, 0, 0, 0.15);\n",
              "      filter: drop-shadow(0px 1px 2px rgba(0, 0, 0, 0.3));\n",
              "      fill: #FFFFFF;\n",
              "    }\n",
              "  </style>\n",
              "\n",
              "    <script>\n",
              "      const buttonEl =\n",
              "        document.querySelector('#df-ca0eea09-b976-439f-a5c3-feaacb040c25 button.colab-df-convert');\n",
              "      buttonEl.style.display =\n",
              "        google.colab.kernel.accessAllowed ? 'block' : 'none';\n",
              "\n",
              "      async function convertToInteractive(key) {\n",
              "        const element = document.querySelector('#df-ca0eea09-b976-439f-a5c3-feaacb040c25');\n",
              "        const dataTable =\n",
              "          await google.colab.kernel.invokeFunction('convertToInteractive',\n",
              "                                                    [key], {});\n",
              "        if (!dataTable) return;\n",
              "\n",
              "        const docLinkHtml = 'Like what you see? Visit the ' +\n",
              "          '<a target=\"_blank\" href=https://colab.research.google.com/notebooks/data_table.ipynb>data table notebook</a>'\n",
              "          + ' to learn more about interactive tables.';\n",
              "        element.innerHTML = '';\n",
              "        dataTable['output_type'] = 'display_data';\n",
              "        await google.colab.output.renderOutput(dataTable, element);\n",
              "        const docLink = document.createElement('div');\n",
              "        docLink.innerHTML = docLinkHtml;\n",
              "        element.appendChild(docLink);\n",
              "      }\n",
              "    </script>\n",
              "  </div>\n",
              "\n",
              "\n",
              "    <div id=\"df-17aadfb1-ab7f-450c-a356-ea61e1512f1e\">\n",
              "      <button class=\"colab-df-quickchart\" onclick=\"quickchart('df-17aadfb1-ab7f-450c-a356-ea61e1512f1e')\"\n",
              "                title=\"Suggest charts\"\n",
              "                style=\"display:none;\">\n",
              "\n",
              "<svg xmlns=\"http://www.w3.org/2000/svg\" height=\"24px\"viewBox=\"0 0 24 24\"\n",
              "     width=\"24px\">\n",
              "    <g>\n",
              "        <path d=\"M19 3H5c-1.1 0-2 .9-2 2v14c0 1.1.9 2 2 2h14c1.1 0 2-.9 2-2V5c0-1.1-.9-2-2-2zM9 17H7v-7h2v7zm4 0h-2V7h2v10zm4 0h-2v-4h2v4z\"/>\n",
              "    </g>\n",
              "</svg>\n",
              "      </button>\n",
              "\n",
              "<style>\n",
              "  .colab-df-quickchart {\n",
              "      --bg-color: #E8F0FE;\n",
              "      --fill-color: #1967D2;\n",
              "      --hover-bg-color: #E2EBFA;\n",
              "      --hover-fill-color: #174EA6;\n",
              "      --disabled-fill-color: #AAA;\n",
              "      --disabled-bg-color: #DDD;\n",
              "  }\n",
              "\n",
              "  [theme=dark] .colab-df-quickchart {\n",
              "      --bg-color: #3B4455;\n",
              "      --fill-color: #D2E3FC;\n",
              "      --hover-bg-color: #434B5C;\n",
              "      --hover-fill-color: #FFFFFF;\n",
              "      --disabled-bg-color: #3B4455;\n",
              "      --disabled-fill-color: #666;\n",
              "  }\n",
              "\n",
              "  .colab-df-quickchart {\n",
              "    background-color: var(--bg-color);\n",
              "    border: none;\n",
              "    border-radius: 50%;\n",
              "    cursor: pointer;\n",
              "    display: none;\n",
              "    fill: var(--fill-color);\n",
              "    height: 32px;\n",
              "    padding: 0;\n",
              "    width: 32px;\n",
              "  }\n",
              "\n",
              "  .colab-df-quickchart:hover {\n",
              "    background-color: var(--hover-bg-color);\n",
              "    box-shadow: 0 1px 2px rgba(60, 64, 67, 0.3), 0 1px 3px 1px rgba(60, 64, 67, 0.15);\n",
              "    fill: var(--button-hover-fill-color);\n",
              "  }\n",
              "\n",
              "  .colab-df-quickchart-complete:disabled,\n",
              "  .colab-df-quickchart-complete:disabled:hover {\n",
              "    background-color: var(--disabled-bg-color);\n",
              "    fill: var(--disabled-fill-color);\n",
              "    box-shadow: none;\n",
              "  }\n",
              "\n",
              "  .colab-df-spinner {\n",
              "    border: 2px solid var(--fill-color);\n",
              "    border-color: transparent;\n",
              "    border-bottom-color: var(--fill-color);\n",
              "    animation:\n",
              "      spin 1s steps(1) infinite;\n",
              "  }\n",
              "\n",
              "  @keyframes spin {\n",
              "    0% {\n",
              "      border-color: transparent;\n",
              "      border-bottom-color: var(--fill-color);\n",
              "      border-left-color: var(--fill-color);\n",
              "    }\n",
              "    20% {\n",
              "      border-color: transparent;\n",
              "      border-left-color: var(--fill-color);\n",
              "      border-top-color: var(--fill-color);\n",
              "    }\n",
              "    30% {\n",
              "      border-color: transparent;\n",
              "      border-left-color: var(--fill-color);\n",
              "      border-top-color: var(--fill-color);\n",
              "      border-right-color: var(--fill-color);\n",
              "    }\n",
              "    40% {\n",
              "      border-color: transparent;\n",
              "      border-right-color: var(--fill-color);\n",
              "      border-top-color: var(--fill-color);\n",
              "    }\n",
              "    60% {\n",
              "      border-color: transparent;\n",
              "      border-right-color: var(--fill-color);\n",
              "    }\n",
              "    80% {\n",
              "      border-color: transparent;\n",
              "      border-right-color: var(--fill-color);\n",
              "      border-bottom-color: var(--fill-color);\n",
              "    }\n",
              "    90% {\n",
              "      border-color: transparent;\n",
              "      border-bottom-color: var(--fill-color);\n",
              "    }\n",
              "  }\n",
              "</style>\n",
              "\n",
              "      <script>\n",
              "        async function quickchart(key) {\n",
              "          const quickchartButtonEl =\n",
              "            document.querySelector('#' + key + ' button');\n",
              "          quickchartButtonEl.disabled = true;  // To prevent multiple clicks.\n",
              "          quickchartButtonEl.classList.add('colab-df-spinner');\n",
              "          try {\n",
              "            const charts = await google.colab.kernel.invokeFunction(\n",
              "                'suggestCharts', [key], {});\n",
              "          } catch (error) {\n",
              "            console.error('Error during call to suggestCharts:', error);\n",
              "          }\n",
              "          quickchartButtonEl.classList.remove('colab-df-spinner');\n",
              "          quickchartButtonEl.classList.add('colab-df-quickchart-complete');\n",
              "        }\n",
              "        (() => {\n",
              "          let quickchartButtonEl =\n",
              "            document.querySelector('#df-17aadfb1-ab7f-450c-a356-ea61e1512f1e button');\n",
              "          quickchartButtonEl.style.display =\n",
              "            google.colab.kernel.accessAllowed ? 'block' : 'none';\n",
              "        })();\n",
              "      </script>\n",
              "    </div>\n",
              "\n",
              "    </div>\n",
              "  </div>\n"
            ],
            "application/vnd.google.colaboratory.intrinsic+json": {
              "type": "dataframe",
              "summary": "{\n  \"name\": \"data\",\n  \"rows\": 8,\n  \"fields\": [\n    {\n      \"column\": \"acousticness\",\n      \"properties\": {\n        \"dtype\": \"number\",\n        \"std\": 3577.4664585923056,\n        \"min\": 0.0,\n        \"max\": 10119.0,\n        \"num_unique_values\": 8,\n        \"samples\": [\n          0.3801971234765117,\n          0.24196709518718582,\n          10119.0\n        ],\n        \"semantic_type\": \"\",\n        \"description\": \"\"\n      }\n    },\n    {\n      \"column\": \"danceability\",\n      \"properties\": {\n        \"dtype\": \"number\",\n        \"std\": 3577.4364104345987,\n        \"min\": 0.0,\n        \"max\": 10119.0,\n        \"num_unique_values\": 8,\n        \"samples\": [\n          0.5325362713346843,\n          0.5530179445350734,\n          10119.0\n        ],\n        \"semantic_type\": \"\",\n        \"description\": \"\"\n      }\n    },\n    {\n      \"column\": \"energy\",\n      \"properties\": {\n        \"dtype\": \"number\",\n        \"std\": 3577.42539828688,\n        \"min\": 0.0,\n        \"max\": 10119.0,\n        \"num_unique_values\": 8,\n        \"samples\": [\n          0.5656616897592738,\n          0.5954907228200303,\n          10119.0\n        ],\n        \"semantic_type\": \"\",\n        \"description\": \"\"\n      }\n    },\n    {\n      \"column\": \"instrumentalness\",\n      \"properties\": {\n        \"dtype\": \"number\",\n        \"std\": 3577.531379831265,\n        \"min\": 0.0,\n        \"max\": 10119.0,\n        \"num_unique_values\": 7,\n        \"samples\": [\n          10119.0,\n          0.15072469077232703,\n          0.03326592517694642\n        ],\n        \"semantic_type\": \"\",\n        \"description\": \"\"\n      }\n    },\n    {\n      \"column\": \"loudness\",\n      \"properties\": {\n        \"dtype\": \"number\",\n        \"std\": 3577.3903977946347,\n        \"min\": 0.0,\n        \"max\": 10119.0,\n        \"num_unique_values\": 8,\n        \"samples\": [\n          0.7689139049693275,\n          0.8086480386214967,\n          10119.0\n        ],\n        \"semantic_type\": \"\",\n        \"description\": \"\"\n      }\n    },\n    {\n      \"column\": \"speechiness\",\n      \"properties\": {\n        \"dtype\": \"number\",\n        \"std\": 3577.5345045999484,\n        \"min\": 0.0,\n        \"max\": 10119.0,\n        \"num_unique_values\": 8,\n        \"samples\": [\n          0.10358929356952341,\n          0.028902348315800658,\n          10119.0\n        ],\n        \"semantic_type\": \"\",\n        \"description\": \"\"\n      }\n    },\n    {\n      \"column\": \"tempo\",\n      \"properties\": {\n        \"dtype\": \"number\",\n        \"std\": 3577.4656656001534,\n        \"min\": 0.0,\n        \"max\": 10119.0,\n        \"num_unique_values\": 8,\n        \"samples\": [\n          0.4159999982245237,\n          0.4063550321655066,\n          10119.0\n        ],\n        \"semantic_type\": \"\",\n        \"description\": \"\"\n      }\n    },\n    {\n      \"column\": \"valence\",\n      \"properties\": {\n        \"dtype\": \"number\",\n        \"std\": 3577.452418715372,\n        \"min\": 0.0,\n        \"max\": 10119.0,\n        \"num_unique_values\": 8,\n        \"samples\": [\n          0.4551561394131773,\n          0.44590495449949447,\n          10119.0\n        ],\n        \"semantic_type\": \"\",\n        \"description\": \"\"\n      }\n    }\n  ]\n}"
            }
          },
          "metadata": {},
          "execution_count": 22
        }
      ]
    },
    {
      "cell_type": "markdown",
      "source": [
        "**Insight:**\n",
        "\n",
        "Dapat dilihat bahwa seluruh fitur memiliki skala dan distribusi nilai yang sama, sehingga bisa dilanjutkan ke tahap selanjutnya"
      ],
      "metadata": {
        "id": "QzvEntEBWL2Z"
      }
    },
    {
      "cell_type": "markdown",
      "source": [
        "## Membuat Kombinasi Nama"
      ],
      "metadata": {
        "id": "-ad5BLfzWl5q"
      }
    },
    {
      "cell_type": "markdown",
      "source": [
        "Hal ini dilakukan agar TF-IDF dapat menghitung kemiripan berdasarkan dua aspek yakni `artist_name` dan `genre`, dan menyimpannya dalam `'combined_text'`"
      ],
      "metadata": {
        "id": "alDH_lBxWoPH"
      }
    },
    {
      "cell_type": "code",
      "source": [
        "data['combined_text'] = data['artist_name'] + ' ' + data['genre']"
      ],
      "metadata": {
        "colab": {
          "base_uri": "https://localhost:8080/"
        },
        "id": "WzkxVn3UDxpb",
        "outputId": "15d82917-2e91-411f-9da4-87d2438f381e"
      },
      "execution_count": 23,
      "outputs": [
        {
          "output_type": "stream",
          "name": "stderr",
          "text": [
            "<ipython-input-23-889c2547da9b>:1: SettingWithCopyWarning: \n",
            "A value is trying to be set on a copy of a slice from a DataFrame.\n",
            "Try using .loc[row_indexer,col_indexer] = value instead\n",
            "\n",
            "See the caveats in the documentation: https://pandas.pydata.org/pandas-docs/stable/user_guide/indexing.html#returning-a-view-versus-a-copy\n",
            "  data['combined_text'] = data['artist_name'] + ' ' + data['genre']\n"
          ]
        }
      ]
    },
    {
      "cell_type": "markdown",
      "source": [
        "## TF-IDF Vectorizer"
      ],
      "metadata": {
        "id": "NB7eN7VCCcF9"
      }
    },
    {
      "cell_type": "markdown",
      "source": [
        "Saat mencari sebuah lagu, agar sistem akan merekomendasikan lagu-lagu lain yang mirip baik dari segi penyanyi maupun karakteristik audio seperti `acousticness, danceability, energy, valence`, dan `tempo`, maka dilakukan penggabungan dari TF-IDF dan `scaled_audio`."
      ],
      "metadata": {
        "id": "68187bbYXXf9"
      }
    },
    {
      "cell_type": "code",
      "source": [
        "tf = TfidfVectorizer()\n",
        "tfidf_matrix = tf.fit_transform(data['combined_text'])"
      ],
      "metadata": {
        "id": "k3m49pQyCaS6"
      },
      "execution_count": 24,
      "outputs": []
    },
    {
      "cell_type": "markdown",
      "source": [
        "### Penggabungan"
      ],
      "metadata": {
        "id": "fK8mwBGytxfR"
      }
    },
    {
      "cell_type": "code",
      "source": [
        "hybrid_matrix = hstack([tfidf_matrix, scaled_audio])"
      ],
      "metadata": {
        "id": "YwchHfRMEyNN"
      },
      "execution_count": 25,
      "outputs": []
    },
    {
      "cell_type": "markdown",
      "source": [
        "# Model Development Content Based Filtering"
      ],
      "metadata": {
        "id": "oGQYUmkZCWdD"
      }
    },
    {
      "cell_type": "markdown",
      "source": [
        "Content-Based Filtering sangat cocok untuk sistem rekomendasi berbasis konten yang tidak melibatkan perilaku pengguna secara langsung, serta mempermudah interpretasi hasil karena rekomendasi diberikan berdasarkan kemiripan konten antar lagu. Namun metode ini memiliki kelemahan, adapauun kelemahan utamanya adalah masalah _overspecialization_, di mana sistem hanya merekomendasikan item yang sangat mirip dengan yang sudah dikenal atau disukai sebelumnya, sehingga mengurangi keberagaman rekomendasi. Selain itu, metode ini tidak dapat menangkap preferensi kolektif dari pengguna lain karena tidak melibatkan data komunitas atau perilaku pengguna secara luas. Kekurangan lainnya adalah ketergantungan tinggi terhadap kualitas dan kelengkapan fitur konten."
      ],
      "metadata": {
        "id": "txP7AqV84Pob"
      }
    },
    {
      "cell_type": "markdown",
      "source": [
        "## Cosine Similarity"
      ],
      "metadata": {
        "id": "Iupcizy2DHMb"
      }
    },
    {
      "cell_type": "markdown",
      "source": [
        "Gunakan teknik cosine similarity untuk menemukan lagu-lagu yang mirip secara musikal dengan lagu yang dicari"
      ],
      "metadata": {
        "id": "TED2Ps7-YRl7"
      }
    },
    {
      "cell_type": "code",
      "source": [
        "cosine_sim = cosine_similarity(hybrid_matrix)\n",
        "cosine_sim"
      ],
      "metadata": {
        "id": "ouUf7dSWCnNN",
        "colab": {
          "base_uri": "https://localhost:8080/"
        },
        "outputId": "1eb16ba1-eb71-4b05-eac7-9af4fbf2b082"
      },
      "execution_count": 26,
      "outputs": [
        {
          "output_type": "execute_result",
          "data": {
            "text/plain": [
              "array([[1.        , 0.52906616, 0.71870196, ..., 0.44427245, 0.38984661,\n",
              "        0.3686466 ],\n",
              "       [0.52906616, 1.        , 0.53753828, ..., 0.29898606, 0.25318883,\n",
              "        0.23345297],\n",
              "       [0.71870196, 0.53753828, 1.        , ..., 0.37734181, 0.31531785,\n",
              "        0.29198483],\n",
              "       ...,\n",
              "       [0.44427245, 0.29898606, 0.37734181, ..., 1.        , 0.99595218,\n",
              "        0.98668431],\n",
              "       [0.38984661, 0.25318883, 0.31531785, ..., 0.99595218, 1.        ,\n",
              "        0.99573726],\n",
              "       [0.3686466 , 0.23345297, 0.29198483, ..., 0.98668431, 0.99573726,\n",
              "        1.        ]])"
            ]
          },
          "metadata": {},
          "execution_count": 26
        }
      ]
    },
    {
      "cell_type": "markdown",
      "source": [
        "## Membuat Dictionary Berisi 10 Lagu Paling Mirip"
      ],
      "metadata": {
        "id": "p4issc-MYu8x"
      }
    },
    {
      "cell_type": "markdown",
      "source": [
        "Menyusun top 10 rekomendasi lagu yang paling mirip untuk setiap lagu berdasarkan skor cosine similarity"
      ],
      "metadata": {
        "id": "K5sqNl0qYaDX"
      }
    },
    {
      "cell_type": "code",
      "source": [
        "top_k_sim = {}\n",
        "\n",
        "for i in range(cosine_sim.shape[0]):\n",
        "    top_indices = np.argsort(cosine_sim[i])[::-1][:10]\n",
        "    key = data['track_name'].iloc[i] + '-' + data['artist_name'].iloc[i]\n",
        "    similar_items = data.iloc[top_indices][['track_name', 'artist_name']].apply(\n",
        "        lambda x: f\"{x['track_name']} - {x['artist_name']}\", axis=1).tolist()\n",
        "    top_k_sim[key] = similar_items"
      ],
      "metadata": {
        "id": "15YCP2a8CUHS"
      },
      "execution_count": 27,
      "outputs": []
    },
    {
      "cell_type": "markdown",
      "source": [
        "## Mendapatkan Rekomendasi"
      ],
      "metadata": {
        "id": "utX8HfNUDOjF"
      }
    },
    {
      "cell_type": "markdown",
      "source": [
        "Memberikan rekomendasi lagu yang mirip dengan lagu input, berdasarkan kemiripan fitur (hasil dari cosine_similarity), dengan referensi pada `track_name` dan `artist_name`."
      ],
      "metadata": {
        "id": "w5Wy6g0ceIu-"
      }
    },
    {
      "cell_type": "code",
      "source": [
        "def music_recommendations(track_name_input, artist_input, similarity_data=top_k_sim, k=5):\n",
        "    \"\"\"\n",
        "    Rekomendasikan lagu mirip berdasarkan track dan artist\n",
        "    \"\"\"\n",
        "    key = f\"{track_name_input}-{artist_input}\"\n",
        "\n",
        "    if key not in similarity_data:\n",
        "        print(\"Lagu tidak ditemukan di data.\")\n",
        "        return pd.DataFrame()\n",
        "\n",
        "    recommended_keys = similarity_data[key][:k]\n",
        "\n",
        "    recommended_data = []\n",
        "    for item in recommended_keys:\n",
        "        parts = item.rsplit(\" - \", 1)\n",
        "        if len(parts) == 2:\n",
        "            recommended_data.append(parts)\n",
        "        else:\n",
        "            print(f\"Warning: Skipping item '{item}' as it could not be parsed into track and artist.\")\n",
        "            continue\n",
        "\n",
        "    if not recommended_data:\n",
        "        print(\"No valid recommendations found after parsing.\")\n",
        "        return pd.DataFrame()\n",
        "\n",
        "    recommended_df = pd.DataFrame(recommended_data, columns=[\"track_name\", \"artist_name\"])\n",
        "\n",
        "    return pd.merge(recommended_df, data, on=[\"track_name\", \"artist_name\"], how=\"left\")[[\n",
        "         'track_id','artist_name','track_name','genre','acousticness', 'danceability', 'energy', 'instrumentalness', 'loudness', 'speechiness', 'tempo', 'valence'\n",
        "    ]]"
      ],
      "metadata": {
        "id": "o_fzp2cTCfWh"
      },
      "execution_count": 28,
      "outputs": []
    },
    {
      "cell_type": "code",
      "source": [
        "music_recommendations(\"How to Be Married\", \"Jackie Kashian\")"
      ],
      "metadata": {
        "colab": {
          "base_uri": "https://localhost:8080/",
          "height": 348
        },
        "id": "T4bWryo5CiiU",
        "outputId": "54a42db5-f836-4db9-a89a-b7212a1e7277"
      },
      "execution_count": 29,
      "outputs": [
        {
          "output_type": "execute_result",
          "data": {
            "text/plain": [
              "                 track_id     artist_name  \\\n",
              "0  0a4lqrikZRONK8GFqRgRoi  Jackie Kashian   \n",
              "1  3doVn4FNryNBnKjGFx2bMC  Jackie Kashian   \n",
              "2  5ahc9pNqLSwDAF5PJZMo9S     T.J. Miller   \n",
              "3  6sauVvIY5BNHLjxoyDoSju     Tommy Ryman   \n",
              "4  0u6cXeKT83UPslAot9FwQA          Sinbad   \n",
              "\n",
              "                                  track_name   genre  acousticness  \\\n",
              "0                          How to Be Married  Comedy      0.676706   \n",
              "1                                  Bite Suit  Comedy      0.668674   \n",
              "2  Episode 6 \"Smokes, Jokes And Froze-Tokes\"  Comedy      0.838353   \n",
              "3                            Toots and Farts  Comedy      0.783132   \n",
              "4                              Life Is Short  Comedy      0.734939   \n",
              "\n",
              "   danceability    energy  instrumentalness  loudness  speechiness     tempo  \\\n",
              "0      0.704187  0.757695               0.0  0.802148     0.961747  0.203107   \n",
              "1      0.708537  0.700623               0.0  0.825096     0.961747  0.389149   \n",
              "2      0.510604  0.743677               0.0  0.827039     0.979811  0.167757   \n",
              "3      0.683524  0.857821               0.0  0.821125     0.948996  0.259631   \n",
              "4      0.592170  0.674590               0.0  0.816172     0.927744  0.384774   \n",
              "\n",
              "    valence  \n",
              "0  0.732053  \n",
              "1  0.702730  \n",
              "2  0.588473  \n",
              "3  0.564206  \n",
              "4  0.625885  "
            ],
            "text/html": [
              "\n",
              "  <div id=\"df-20d55dcc-21b9-407e-98c6-2b92fc0753d3\" class=\"colab-df-container\">\n",
              "    <div>\n",
              "<style scoped>\n",
              "    .dataframe tbody tr th:only-of-type {\n",
              "        vertical-align: middle;\n",
              "    }\n",
              "\n",
              "    .dataframe tbody tr th {\n",
              "        vertical-align: top;\n",
              "    }\n",
              "\n",
              "    .dataframe thead th {\n",
              "        text-align: right;\n",
              "    }\n",
              "</style>\n",
              "<table border=\"1\" class=\"dataframe\">\n",
              "  <thead>\n",
              "    <tr style=\"text-align: right;\">\n",
              "      <th></th>\n",
              "      <th>track_id</th>\n",
              "      <th>artist_name</th>\n",
              "      <th>track_name</th>\n",
              "      <th>genre</th>\n",
              "      <th>acousticness</th>\n",
              "      <th>danceability</th>\n",
              "      <th>energy</th>\n",
              "      <th>instrumentalness</th>\n",
              "      <th>loudness</th>\n",
              "      <th>speechiness</th>\n",
              "      <th>tempo</th>\n",
              "      <th>valence</th>\n",
              "    </tr>\n",
              "  </thead>\n",
              "  <tbody>\n",
              "    <tr>\n",
              "      <th>0</th>\n",
              "      <td>0a4lqrikZRONK8GFqRgRoi</td>\n",
              "      <td>Jackie Kashian</td>\n",
              "      <td>How to Be Married</td>\n",
              "      <td>Comedy</td>\n",
              "      <td>0.676706</td>\n",
              "      <td>0.704187</td>\n",
              "      <td>0.757695</td>\n",
              "      <td>0.0</td>\n",
              "      <td>0.802148</td>\n",
              "      <td>0.961747</td>\n",
              "      <td>0.203107</td>\n",
              "      <td>0.732053</td>\n",
              "    </tr>\n",
              "    <tr>\n",
              "      <th>1</th>\n",
              "      <td>3doVn4FNryNBnKjGFx2bMC</td>\n",
              "      <td>Jackie Kashian</td>\n",
              "      <td>Bite Suit</td>\n",
              "      <td>Comedy</td>\n",
              "      <td>0.668674</td>\n",
              "      <td>0.708537</td>\n",
              "      <td>0.700623</td>\n",
              "      <td>0.0</td>\n",
              "      <td>0.825096</td>\n",
              "      <td>0.961747</td>\n",
              "      <td>0.389149</td>\n",
              "      <td>0.702730</td>\n",
              "    </tr>\n",
              "    <tr>\n",
              "      <th>2</th>\n",
              "      <td>5ahc9pNqLSwDAF5PJZMo9S</td>\n",
              "      <td>T.J. Miller</td>\n",
              "      <td>Episode 6 \"Smokes, Jokes And Froze-Tokes\"</td>\n",
              "      <td>Comedy</td>\n",
              "      <td>0.838353</td>\n",
              "      <td>0.510604</td>\n",
              "      <td>0.743677</td>\n",
              "      <td>0.0</td>\n",
              "      <td>0.827039</td>\n",
              "      <td>0.979811</td>\n",
              "      <td>0.167757</td>\n",
              "      <td>0.588473</td>\n",
              "    </tr>\n",
              "    <tr>\n",
              "      <th>3</th>\n",
              "      <td>6sauVvIY5BNHLjxoyDoSju</td>\n",
              "      <td>Tommy Ryman</td>\n",
              "      <td>Toots and Farts</td>\n",
              "      <td>Comedy</td>\n",
              "      <td>0.783132</td>\n",
              "      <td>0.683524</td>\n",
              "      <td>0.857821</td>\n",
              "      <td>0.0</td>\n",
              "      <td>0.821125</td>\n",
              "      <td>0.948996</td>\n",
              "      <td>0.259631</td>\n",
              "      <td>0.564206</td>\n",
              "    </tr>\n",
              "    <tr>\n",
              "      <th>4</th>\n",
              "      <td>0u6cXeKT83UPslAot9FwQA</td>\n",
              "      <td>Sinbad</td>\n",
              "      <td>Life Is Short</td>\n",
              "      <td>Comedy</td>\n",
              "      <td>0.734939</td>\n",
              "      <td>0.592170</td>\n",
              "      <td>0.674590</td>\n",
              "      <td>0.0</td>\n",
              "      <td>0.816172</td>\n",
              "      <td>0.927744</td>\n",
              "      <td>0.384774</td>\n",
              "      <td>0.625885</td>\n",
              "    </tr>\n",
              "  </tbody>\n",
              "</table>\n",
              "</div>\n",
              "    <div class=\"colab-df-buttons\">\n",
              "\n",
              "  <div class=\"colab-df-container\">\n",
              "    <button class=\"colab-df-convert\" onclick=\"convertToInteractive('df-20d55dcc-21b9-407e-98c6-2b92fc0753d3')\"\n",
              "            title=\"Convert this dataframe to an interactive table.\"\n",
              "            style=\"display:none;\">\n",
              "\n",
              "  <svg xmlns=\"http://www.w3.org/2000/svg\" height=\"24px\" viewBox=\"0 -960 960 960\">\n",
              "    <path d=\"M120-120v-720h720v720H120Zm60-500h600v-160H180v160Zm220 220h160v-160H400v160Zm0 220h160v-160H400v160ZM180-400h160v-160H180v160Zm440 0h160v-160H620v160ZM180-180h160v-160H180v160Zm440 0h160v-160H620v160Z\"/>\n",
              "  </svg>\n",
              "    </button>\n",
              "\n",
              "  <style>\n",
              "    .colab-df-container {\n",
              "      display:flex;\n",
              "      gap: 12px;\n",
              "    }\n",
              "\n",
              "    .colab-df-convert {\n",
              "      background-color: #E8F0FE;\n",
              "      border: none;\n",
              "      border-radius: 50%;\n",
              "      cursor: pointer;\n",
              "      display: none;\n",
              "      fill: #1967D2;\n",
              "      height: 32px;\n",
              "      padding: 0 0 0 0;\n",
              "      width: 32px;\n",
              "    }\n",
              "\n",
              "    .colab-df-convert:hover {\n",
              "      background-color: #E2EBFA;\n",
              "      box-shadow: 0px 1px 2px rgba(60, 64, 67, 0.3), 0px 1px 3px 1px rgba(60, 64, 67, 0.15);\n",
              "      fill: #174EA6;\n",
              "    }\n",
              "\n",
              "    .colab-df-buttons div {\n",
              "      margin-bottom: 4px;\n",
              "    }\n",
              "\n",
              "    [theme=dark] .colab-df-convert {\n",
              "      background-color: #3B4455;\n",
              "      fill: #D2E3FC;\n",
              "    }\n",
              "\n",
              "    [theme=dark] .colab-df-convert:hover {\n",
              "      background-color: #434B5C;\n",
              "      box-shadow: 0px 1px 3px 1px rgba(0, 0, 0, 0.15);\n",
              "      filter: drop-shadow(0px 1px 2px rgba(0, 0, 0, 0.3));\n",
              "      fill: #FFFFFF;\n",
              "    }\n",
              "  </style>\n",
              "\n",
              "    <script>\n",
              "      const buttonEl =\n",
              "        document.querySelector('#df-20d55dcc-21b9-407e-98c6-2b92fc0753d3 button.colab-df-convert');\n",
              "      buttonEl.style.display =\n",
              "        google.colab.kernel.accessAllowed ? 'block' : 'none';\n",
              "\n",
              "      async function convertToInteractive(key) {\n",
              "        const element = document.querySelector('#df-20d55dcc-21b9-407e-98c6-2b92fc0753d3');\n",
              "        const dataTable =\n",
              "          await google.colab.kernel.invokeFunction('convertToInteractive',\n",
              "                                                    [key], {});\n",
              "        if (!dataTable) return;\n",
              "\n",
              "        const docLinkHtml = 'Like what you see? Visit the ' +\n",
              "          '<a target=\"_blank\" href=https://colab.research.google.com/notebooks/data_table.ipynb>data table notebook</a>'\n",
              "          + ' to learn more about interactive tables.';\n",
              "        element.innerHTML = '';\n",
              "        dataTable['output_type'] = 'display_data';\n",
              "        await google.colab.output.renderOutput(dataTable, element);\n",
              "        const docLink = document.createElement('div');\n",
              "        docLink.innerHTML = docLinkHtml;\n",
              "        element.appendChild(docLink);\n",
              "      }\n",
              "    </script>\n",
              "  </div>\n",
              "\n",
              "\n",
              "    <div id=\"df-116ef899-da48-413b-97da-fbdc9f12e073\">\n",
              "      <button class=\"colab-df-quickchart\" onclick=\"quickchart('df-116ef899-da48-413b-97da-fbdc9f12e073')\"\n",
              "                title=\"Suggest charts\"\n",
              "                style=\"display:none;\">\n",
              "\n",
              "<svg xmlns=\"http://www.w3.org/2000/svg\" height=\"24px\"viewBox=\"0 0 24 24\"\n",
              "     width=\"24px\">\n",
              "    <g>\n",
              "        <path d=\"M19 3H5c-1.1 0-2 .9-2 2v14c0 1.1.9 2 2 2h14c1.1 0 2-.9 2-2V5c0-1.1-.9-2-2-2zM9 17H7v-7h2v7zm4 0h-2V7h2v10zm4 0h-2v-4h2v4z\"/>\n",
              "    </g>\n",
              "</svg>\n",
              "      </button>\n",
              "\n",
              "<style>\n",
              "  .colab-df-quickchart {\n",
              "      --bg-color: #E8F0FE;\n",
              "      --fill-color: #1967D2;\n",
              "      --hover-bg-color: #E2EBFA;\n",
              "      --hover-fill-color: #174EA6;\n",
              "      --disabled-fill-color: #AAA;\n",
              "      --disabled-bg-color: #DDD;\n",
              "  }\n",
              "\n",
              "  [theme=dark] .colab-df-quickchart {\n",
              "      --bg-color: #3B4455;\n",
              "      --fill-color: #D2E3FC;\n",
              "      --hover-bg-color: #434B5C;\n",
              "      --hover-fill-color: #FFFFFF;\n",
              "      --disabled-bg-color: #3B4455;\n",
              "      --disabled-fill-color: #666;\n",
              "  }\n",
              "\n",
              "  .colab-df-quickchart {\n",
              "    background-color: var(--bg-color);\n",
              "    border: none;\n",
              "    border-radius: 50%;\n",
              "    cursor: pointer;\n",
              "    display: none;\n",
              "    fill: var(--fill-color);\n",
              "    height: 32px;\n",
              "    padding: 0;\n",
              "    width: 32px;\n",
              "  }\n",
              "\n",
              "  .colab-df-quickchart:hover {\n",
              "    background-color: var(--hover-bg-color);\n",
              "    box-shadow: 0 1px 2px rgba(60, 64, 67, 0.3), 0 1px 3px 1px rgba(60, 64, 67, 0.15);\n",
              "    fill: var(--button-hover-fill-color);\n",
              "  }\n",
              "\n",
              "  .colab-df-quickchart-complete:disabled,\n",
              "  .colab-df-quickchart-complete:disabled:hover {\n",
              "    background-color: var(--disabled-bg-color);\n",
              "    fill: var(--disabled-fill-color);\n",
              "    box-shadow: none;\n",
              "  }\n",
              "\n",
              "  .colab-df-spinner {\n",
              "    border: 2px solid var(--fill-color);\n",
              "    border-color: transparent;\n",
              "    border-bottom-color: var(--fill-color);\n",
              "    animation:\n",
              "      spin 1s steps(1) infinite;\n",
              "  }\n",
              "\n",
              "  @keyframes spin {\n",
              "    0% {\n",
              "      border-color: transparent;\n",
              "      border-bottom-color: var(--fill-color);\n",
              "      border-left-color: var(--fill-color);\n",
              "    }\n",
              "    20% {\n",
              "      border-color: transparent;\n",
              "      border-left-color: var(--fill-color);\n",
              "      border-top-color: var(--fill-color);\n",
              "    }\n",
              "    30% {\n",
              "      border-color: transparent;\n",
              "      border-left-color: var(--fill-color);\n",
              "      border-top-color: var(--fill-color);\n",
              "      border-right-color: var(--fill-color);\n",
              "    }\n",
              "    40% {\n",
              "      border-color: transparent;\n",
              "      border-right-color: var(--fill-color);\n",
              "      border-top-color: var(--fill-color);\n",
              "    }\n",
              "    60% {\n",
              "      border-color: transparent;\n",
              "      border-right-color: var(--fill-color);\n",
              "    }\n",
              "    80% {\n",
              "      border-color: transparent;\n",
              "      border-right-color: var(--fill-color);\n",
              "      border-bottom-color: var(--fill-color);\n",
              "    }\n",
              "    90% {\n",
              "      border-color: transparent;\n",
              "      border-bottom-color: var(--fill-color);\n",
              "    }\n",
              "  }\n",
              "</style>\n",
              "\n",
              "      <script>\n",
              "        async function quickchart(key) {\n",
              "          const quickchartButtonEl =\n",
              "            document.querySelector('#' + key + ' button');\n",
              "          quickchartButtonEl.disabled = true;  // To prevent multiple clicks.\n",
              "          quickchartButtonEl.classList.add('colab-df-spinner');\n",
              "          try {\n",
              "            const charts = await google.colab.kernel.invokeFunction(\n",
              "                'suggestCharts', [key], {});\n",
              "          } catch (error) {\n",
              "            console.error('Error during call to suggestCharts:', error);\n",
              "          }\n",
              "          quickchartButtonEl.classList.remove('colab-df-spinner');\n",
              "          quickchartButtonEl.classList.add('colab-df-quickchart-complete');\n",
              "        }\n",
              "        (() => {\n",
              "          let quickchartButtonEl =\n",
              "            document.querySelector('#df-116ef899-da48-413b-97da-fbdc9f12e073 button');\n",
              "          quickchartButtonEl.style.display =\n",
              "            google.colab.kernel.accessAllowed ? 'block' : 'none';\n",
              "        })();\n",
              "      </script>\n",
              "    </div>\n",
              "\n",
              "    </div>\n",
              "  </div>\n"
            ],
            "application/vnd.google.colaboratory.intrinsic+json": {
              "type": "dataframe",
              "summary": "{\n  \"name\": \"music_recommendations(\\\"How to Be Married\\\", \\\"Jackie Kashian\\\")\",\n  \"rows\": 5,\n  \"fields\": [\n    {\n      \"column\": \"track_id\",\n      \"properties\": {\n        \"dtype\": \"string\",\n        \"num_unique_values\": 5,\n        \"samples\": [\n          \"3doVn4FNryNBnKjGFx2bMC\",\n          \"0u6cXeKT83UPslAot9FwQA\",\n          \"5ahc9pNqLSwDAF5PJZMo9S\"\n        ],\n        \"semantic_type\": \"\",\n        \"description\": \"\"\n      }\n    },\n    {\n      \"column\": \"artist_name\",\n      \"properties\": {\n        \"dtype\": \"string\",\n        \"num_unique_values\": 4,\n        \"samples\": [\n          \"T.J. Miller\",\n          \"Sinbad\",\n          \"Jackie Kashian\"\n        ],\n        \"semantic_type\": \"\",\n        \"description\": \"\"\n      }\n    },\n    {\n      \"column\": \"track_name\",\n      \"properties\": {\n        \"dtype\": \"string\",\n        \"num_unique_values\": 5,\n        \"samples\": [\n          \"Bite Suit\",\n          \"Life Is Short\",\n          \"Episode 6 \\\"Smokes, Jokes And Froze-Tokes\\\"\"\n        ],\n        \"semantic_type\": \"\",\n        \"description\": \"\"\n      }\n    },\n    {\n      \"column\": \"genre\",\n      \"properties\": {\n        \"dtype\": \"category\",\n        \"num_unique_values\": 1,\n        \"samples\": [\n          \"Comedy\"\n        ],\n        \"semantic_type\": \"\",\n        \"description\": \"\"\n      }\n    },\n    {\n      \"column\": \"acousticness\",\n      \"properties\": {\n        \"dtype\": \"number\",\n        \"std\": 0.0718542423176809,\n        \"min\": 0.6686743594857899,\n        \"max\": 0.8383532481127641,\n        \"num_unique_values\": 5,\n        \"samples\": [\n          0.6686743594857899\n        ],\n        \"semantic_type\": \"\",\n        \"description\": \"\"\n      }\n    },\n    {\n      \"column\": \"danceability\",\n      \"properties\": {\n        \"dtype\": \"number\",\n        \"std\": 0.0862302478977782,\n        \"min\": 0.5106035889070147,\n        \"max\": 0.7085372485046221,\n        \"num_unique_values\": 5,\n        \"samples\": [\n          0.7085372485046221\n        ],\n        \"semantic_type\": \"\",\n        \"description\": \"\"\n      }\n    },\n    {\n      \"column\": \"energy\",\n      \"properties\": {\n        \"dtype\": \"number\",\n        \"std\": 0.07035734963769254,\n        \"min\": 0.674590309199282,\n        \"max\": 0.8578209966347632,\n        \"num_unique_values\": 5,\n        \"samples\": [\n          0.7006230844633393\n        ],\n        \"semantic_type\": \"\",\n        \"description\": \"\"\n      }\n    },\n    {\n      \"column\": \"instrumentalness\",\n      \"properties\": {\n        \"dtype\": \"number\",\n        \"std\": 0.0,\n        \"min\": 0.0,\n        \"max\": 0.0,\n        \"num_unique_values\": 1,\n        \"samples\": [\n          0.0\n        ],\n        \"semantic_type\": \"\",\n        \"description\": \"\"\n      }\n    },\n    {\n      \"column\": \"loudness\",\n      \"properties\": {\n        \"dtype\": \"number\",\n        \"std\": 0.00994906546014268,\n        \"min\": 0.8021484252544462,\n        \"max\": 0.8270392275700641,\n        \"num_unique_values\": 5,\n        \"samples\": [\n          0.8250956132834542\n        ],\n        \"semantic_type\": \"\",\n        \"description\": \"\"\n      }\n    },\n    {\n      \"column\": \"speechiness\",\n      \"properties\": {\n        \"dtype\": \"number\",\n        \"std\": 0.019238388968240004,\n        \"min\": 0.9277441292104984,\n        \"max\": 0.9798108596323452,\n        \"num_unique_values\": 4,\n        \"samples\": [\n          0.9798108596323452\n        ],\n        \"semantic_type\": \"\",\n        \"description\": \"\"\n      }\n    },\n    {\n      \"column\": \"tempo\",\n      \"properties\": {\n        \"dtype\": \"number\",\n        \"std\": 0.10224148761233308,\n        \"min\": 0.16775743811498475,\n        \"max\": 0.3891494010473434,\n        \"num_unique_values\": 5,\n        \"samples\": [\n          0.3891494010473434\n        ],\n        \"semantic_type\": \"\",\n        \"description\": \"\"\n      }\n    },\n    {\n      \"column\": \"valence\",\n      \"properties\": {\n        \"dtype\": \"number\",\n        \"std\": 0.07240864490104967,\n        \"min\": 0.5642062689585441,\n        \"max\": 0.7320525783619818,\n        \"num_unique_values\": 5,\n        \"samples\": [\n          0.7027300303336703\n        ],\n        \"semantic_type\": \"\",\n        \"description\": \"\"\n      }\n    }\n  ]\n}"
            }
          },
          "metadata": {},
          "execution_count": 29
        }
      ]
    },
    {
      "cell_type": "markdown",
      "source": [
        "## Evaluation"
      ],
      "metadata": {
        "id": "_a1jx9WafMMw"
      }
    },
    {
      "cell_type": "markdown",
      "source": [
        "### Visual Similarity Inspection"
      ],
      "metadata": {
        "id": "4E0HLK_ofPvN"
      }
    },
    {
      "cell_type": "markdown",
      "source": [
        "Membandingkan nilai fitur audio (seperti acousticness, danceability, dll) antara lagu input dan lagu hasil rekomendasi.\n",
        "\n",
        "Visualisasi ini memudahkan untuk melihat seberapa mirip pola fitur kedua lagu dalam bentuk garis."
      ],
      "metadata": {
        "id": "W9md3NuYvNnb"
      }
    },
    {
      "cell_type": "markdown",
      "source": [
        "**Cara Kerja Visual Similarity Inspection**\n",
        "\n",
        "- Ekstraksi Fitur Audio:\n",
        "\n",
        "  Ambil nilai dari fitur-fitur audio\n",
        "  \n",
        "- Plotting Nilai Fitur:\n",
        "   - Visualisasi berupa plot garis (line plot), sumbu-X merepresentasikan nama fitur audio, dan sumbu-Y adalah nilai normalisasi dari masing-masing fitur. Lagu input digambarkan dengan satu garis, dan setiap lagu rekomendasi digambarkan dengan garis lain\n",
        "\n",
        "- Perbandingan Visual:\n",
        "\n",
        "  Semakin mirip bentuk kurva/grafiknya, semakin mirip juga karakteristik musikal dari lagu-lagu tersebut."
      ],
      "metadata": {
        "id": "ar0BPbps7SuT"
      }
    },
    {
      "cell_type": "code",
      "source": [
        "input_track = data[(data['track_name'] == 'How to Be Married') & (data['artist_name'] == 'Jackie Kashian')][audio_features].iloc[0]\n",
        "rekomendasi = music_recommendations(\"How to Be Married\", \"Jackie Kashian\")\n",
        "\n",
        "for idx, row in rekomendasi.iterrows():\n",
        "    plt.figure(figsize=(6,3))\n",
        "    plt.plot(audio_features, input_track.values, label='Input Song')\n",
        "    plt.plot(audio_features, row[audio_features].values, label=row['track_name'], linestyle='--')\n",
        "    plt.legend()\n",
        "    plt.title(f\"Comparing with: {row['track_name']}\")\n",
        "    plt.xticks(rotation=45)\n",
        "    plt.tight_layout()\n",
        "    plt.show()\n"
      ],
      "metadata": {
        "colab": {
          "base_uri": "https://localhost:8080/",
          "height": 1000
        },
        "id": "vCxIcI3DNhZm",
        "outputId": "a785e458-3fd2-4d50-ab6d-125b6fbba7fc"
      },
      "execution_count": 30,
      "outputs": [
        {
          "output_type": "display_data",
          "data": {
            "text/plain": [
              "<Figure size 600x300 with 1 Axes>"
            ],
            "image/png": "[encoded data removed]"
          },
          "metadata": {}
        },
        {
          "output_type": "display_data",
          "data": {
            "text/plain": [
              "<Figure size 600x300 with 1 Axes>"
            ],
            "image/png": "[encoded data removed]"
          },
          "metadata": {}
        },
        {
          "output_type": "display_data",
          "data": {
            "text/plain": [
              "<Figure size 600x300 with 1 Axes>"
            ],
            "image/png": "[encoded data removed]"
          },
          "metadata": {}
        },
        {
          "output_type": "display_data",
          "data": {
            "text/plain": [
              "<Figure size 600x300 with 1 Axes>"
            ],
            "image/png": "[encoded data removed]"
          },
          "metadata": {}
        },
        {
          "output_type": "display_data",
          "data": {
            "text/plain": [
              "<Figure size 600x300 with 1 Axes>"
            ],
            "image/png": "[encoded data removed]"
          },
          "metadata": {}
        }
      ]
    },
    {
      "cell_type": "markdown",
      "source": [
        "**Salah satu interpretasi dari grafik diatas:**\n",
        "\n",
        "Rekomendasi \"Life Is Short\" cukup mirip dengan lagu How to Be Married karena memiliki kesamaan pada aspek instrumental, keras suara, dan unsur bicara, meskipun sedikit berbeda dalam tempo dan suasana emosional (valence)."
      ],
      "metadata": {
        "id": "fPR1cpCCetpR"
      }
    },
    {
      "cell_type": "markdown",
      "source": [
        "### Mean Absolute Error (MAE) antar fitur"
      ],
      "metadata": {
        "id": "ZBDBMBGyhaiS"
      }
    },
    {
      "cell_type": "markdown",
      "source": [
        "Untuk mengukur kinerja sistem rekomendasi lagu berbasis konten, digunakan metrik Mean Absolute Error (MAE). Metrik ini mengukur seberapa besar rata-rata perbedaan absolut antara fitur-fitur lagu input dan lagu yang direkomendasikan."
      ],
      "metadata": {
        "id": "7zZANLZVhkOC"
      }
    },
    {
      "cell_type": "markdown",
      "source": [
        "\n",
        "**Rumus MAE:**\n",
        "\n",
        "$$\n",
        "\\text{MAE} = \\frac{1}{n} \\sum_{i=1}^{n} | y_i - \\hat{y}_i |\n",
        "$$\n",
        "\n",
        "**Keterangan:**\n",
        "- yᵢ: nilai fitur lagu asli\n",
        "- ŷᵢ: nilai fitur lagu hasil rekomendasi\n",
        "- n: jumlah fitur audio yang dibandingkan\n",
        "\n",
        "**Dengan cara kerja:**\n",
        "\n",
        "- Untuk setiap lagu rekomendasi, dibandingkan nilai fitur audionya dengan lagu input.\n",
        "\n",
        "- Seluruh selisih absolut dihitung untuk fitur seperti acousticness, danceability, energy, valence, dan tempo.\n",
        "\n",
        "- MAE yang lebih kecil menunjukkan bahwa fitur-fitur lagu tersebut memiliki kriteria yang sangat mirip dengan lagu input."
      ],
      "metadata": {
        "id": "jAtyPvrR8CLB"
      }
    },
    {
      "cell_type": "code",
      "source": [
        "if not rekomendasi.empty:\n",
        "    for index, row in rekomendasi.iterrows():\n",
        "        recommended_song_features = row[audio_features]\n",
        "\n",
        "        mae = mean_absolute_error(input_track.values, recommended_song_features.values)\n",
        "\n",
        "        print(f\"Mean Absolute Error (MAE) untuk '{row['track_name']}' - '{row['artist_name']}': {mae:.4f}\")\n",
        "else:\n",
        "    print(\"Tidak ada rekomendasi\")"
      ],
      "metadata": {
        "colab": {
          "base_uri": "https://localhost:8080/"
        },
        "id": "KIv_Dbe9fwxH",
        "outputId": "7ec9f4fc-98f5-4e11-c88a-edbdc845d505"
      },
      "execution_count": 31,
      "outputs": [
        {
          "output_type": "stream",
          "name": "stdout",
          "text": [
            "Mean Absolute Error (MAE) untuk 'How to Be Married' - 'Jackie Kashian': 0.0000\n",
            "Mean Absolute Error (MAE) untuk 'Bite Suit' - 'Jackie Kashian': 0.0385\n",
            "Mean Absolute Error (MAE) untuk 'Episode 6 \"Smokes, Jokes And Froze-Tokes\"' - 'T.J. Miller': 0.0739\n",
            "Mean Absolute Error (MAE) untuk 'Toots and Farts' - 'Tommy Ryman': 0.0604\n",
            "Mean Absolute Error (MAE) untuk 'Life Is Short' - 'Sinbad': 0.0737\n"
          ]
        }
      ]
    },
    {
      "cell_type": "markdown",
      "source": [
        "**Insight:**\n",
        "\n",
        "- Diperoleh nilai MAE dari kemiripan lagu 'How to Be Married' dengan 'How to Be Married' adalah 0, yang artinya sama persis karena memang membandingkan dengan lagu yang sama\n",
        "- Diperoleh nilai MAE dari kemiripan lagu 'How to Be Married' dengan 'Bite Suit' adalah 0.0385, menunjukkan bahwa rekomendasi lagu 'Bite Suit' **sangat mirip** dengan lagu \"How to Be Married\".\n",
        "- Diperoleh nilai MAE dari kemiripan lagu 'How to Be Married' dengan 'Episode 6 \"Smokes, Jokes And Froze-Tokes\"' - 'T.J. Miller' adalah 0.0739, menunjukkan bahwa rekomendasi lagu 'Episode 6 \"Smokes, Jokes And Froze-Tokes\"' - 'T.J. Miller' **cukup mirip** dengan lagu \"How to Be Married\".\n",
        "- Diperoleh nilai MAE dari kemiripan lagu 'How to Be Married' dengan 'Toots and Farts' adalah 0.0604, menunjukkan bahwa rekomendasi lagu 'Toots and Farts' **cukup mirip** dengan lagu \"How to Be Married\".\n",
        "- Diperoleh nilai MAE dari kemiripan lagu 'How to Be Married' dengan 'Life Is Short' - 'Sinbad' adalah 0.0737, menunjukkan bahwa rekomendasi lagu 'Life Is Short' - 'Sinbad' **cukup mirip** dengan lagu \"How to Be Married\"."
      ],
      "metadata": {
        "id": "bXnFWf8ohCWR"
      }
    },
    {
      "cell_type": "markdown",
      "source": [
        "Diantara kedua bentuk evaluasi, metode evaluasi dengan MAE menunjukkan hasil yang dapat dipercaya dibandingkan hanya dengan melihat visualisasinya."
      ],
      "metadata": {
        "id": "J6OMjCNF-T_0"
      }
    }
  ]
}